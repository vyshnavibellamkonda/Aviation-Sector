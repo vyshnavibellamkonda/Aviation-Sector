{
  "cells": [
    {
      "cell_type": "markdown",
      "metadata": {
        "id": "view-in-github",
        "colab_type": "text"
      },
      "source": [
        "<a href=\"https://colab.research.google.com/github/vyshnavibellamkonda/Aviation-Sector/blob/master/Final_Algorithm_Aviation_Warehouse.ipynb\" target=\"_parent\"><img src=\"https://colab.research.google.com/assets/colab-badge.svg\" alt=\"Open In Colab\"/></a>"
      ]
    },
    {
      "cell_type": "markdown",
      "metadata": {
        "id": "kbuj4znnrX7A"
      },
      "source": [
        "# Import the Libraries"
      ]
    },
    {
      "cell_type": "code",
      "execution_count": 136,
      "metadata": {
        "id": "DxTVo-X-rX7C"
      },
      "outputs": [],
      "source": [
        "import pandas as pd\n",
        "import numpy as np\n",
        "import random"
      ]
    },
    {
      "cell_type": "markdown",
      "metadata": {
        "id": "10Bpiv-orX7D"
      },
      "source": [
        "Import the data"
      ]
    },
    {
      "cell_type": "code",
      "execution_count": 137,
      "metadata": {
        "id": "7-9KfEqZrX7D"
      },
      "outputs": [],
      "source": [
        "df = pd.read_csv('Indian Cities Database.csv')"
      ]
    },
    {
      "cell_type": "code",
      "execution_count": 138,
      "metadata": {
        "scrolled": true,
        "colab": {
          "base_uri": "https://localhost:8080/",
          "height": 1000
        },
        "id": "DWQErzfSrX7E",
        "outputId": "eb081102-b1cd-4ce6-e122-4bdbc56e8283"
      },
      "outputs": [
        {
          "output_type": "execute_result",
          "data": {
            "text/html": [
              "\n",
              "  <div id=\"df-29d91515-d7aa-41dd-8e79-c0dd1c713cc9\">\n",
              "    <div class=\"colab-df-container\">\n",
              "      <div>\n",
              "<style scoped>\n",
              "    .dataframe tbody tr th:only-of-type {\n",
              "        vertical-align: middle;\n",
              "    }\n",
              "\n",
              "    .dataframe tbody tr th {\n",
              "        vertical-align: top;\n",
              "    }\n",
              "\n",
              "    .dataframe thead th {\n",
              "        text-align: right;\n",
              "    }\n",
              "</style>\n",
              "<table border=\"1\" class=\"dataframe\">\n",
              "  <thead>\n",
              "    <tr style=\"text-align: right;\">\n",
              "      <th></th>\n",
              "      <th>City</th>\n",
              "      <th>Lat</th>\n",
              "      <th>Long</th>\n",
              "      <th>country</th>\n",
              "      <th>iso2</th>\n",
              "      <th>State</th>\n",
              "    </tr>\n",
              "  </thead>\n",
              "  <tbody>\n",
              "    <tr>\n",
              "      <th>0</th>\n",
              "      <td>Adilabad</td>\n",
              "      <td>19.37</td>\n",
              "      <td>78.30</td>\n",
              "      <td>India</td>\n",
              "      <td>IN</td>\n",
              "      <td>Telangana</td>\n",
              "    </tr>\n",
              "    <tr>\n",
              "      <th>1</th>\n",
              "      <td>Alampur</td>\n",
              "      <td>15.54</td>\n",
              "      <td>78.11</td>\n",
              "      <td>India</td>\n",
              "      <td>IN</td>\n",
              "      <td>Telangana</td>\n",
              "    </tr>\n",
              "    <tr>\n",
              "      <th>2</th>\n",
              "      <td>Armoor</td>\n",
              "      <td>18.48</td>\n",
              "      <td>78.16</td>\n",
              "      <td>India</td>\n",
              "      <td>IN</td>\n",
              "      <td>Telangana</td>\n",
              "    </tr>\n",
              "    <tr>\n",
              "      <th>3</th>\n",
              "      <td>Balkonda</td>\n",
              "      <td>19.05</td>\n",
              "      <td>78.20</td>\n",
              "      <td>India</td>\n",
              "      <td>IN</td>\n",
              "      <td>Telangana</td>\n",
              "    </tr>\n",
              "    <tr>\n",
              "      <th>4</th>\n",
              "      <td>Bhadrachalam</td>\n",
              "      <td>17.40</td>\n",
              "      <td>80.56</td>\n",
              "      <td>India</td>\n",
              "      <td>IN</td>\n",
              "      <td>Telangana</td>\n",
              "    </tr>\n",
              "    <tr>\n",
              "      <th>5</th>\n",
              "      <td>Bhainsa</td>\n",
              "      <td>19.10</td>\n",
              "      <td>77.58</td>\n",
              "      <td>India</td>\n",
              "      <td>IN</td>\n",
              "      <td>Telangana</td>\n",
              "    </tr>\n",
              "    <tr>\n",
              "      <th>6</th>\n",
              "      <td>Bodhan</td>\n",
              "      <td>18.39</td>\n",
              "      <td>77.50</td>\n",
              "      <td>India</td>\n",
              "      <td>IN</td>\n",
              "      <td>Telangana</td>\n",
              "    </tr>\n",
              "    <tr>\n",
              "      <th>7</th>\n",
              "      <td>Devarakonda</td>\n",
              "      <td>16.42</td>\n",
              "      <td>78.58</td>\n",
              "      <td>India</td>\n",
              "      <td>IN</td>\n",
              "      <td>Telangana</td>\n",
              "    </tr>\n",
              "    <tr>\n",
              "      <th>8</th>\n",
              "      <td>Gadwal</td>\n",
              "      <td>16.13</td>\n",
              "      <td>77.48</td>\n",
              "      <td>India</td>\n",
              "      <td>IN</td>\n",
              "      <td>Telangana</td>\n",
              "    </tr>\n",
              "    <tr>\n",
              "      <th>9</th>\n",
              "      <td>Golconda</td>\n",
              "      <td>17.23</td>\n",
              "      <td>78.27</td>\n",
              "      <td>India</td>\n",
              "      <td>IN</td>\n",
              "      <td>Telangana</td>\n",
              "    </tr>\n",
              "    <tr>\n",
              "      <th>10</th>\n",
              "      <td>Hanamkonda</td>\n",
              "      <td>18.10</td>\n",
              "      <td>79.46</td>\n",
              "      <td>India</td>\n",
              "      <td>IN</td>\n",
              "      <td>Telangana</td>\n",
              "    </tr>\n",
              "    <tr>\n",
              "      <th>11</th>\n",
              "      <td>Hyderabad</td>\n",
              "      <td>17.20</td>\n",
              "      <td>78.30</td>\n",
              "      <td>India</td>\n",
              "      <td>IN</td>\n",
              "      <td>Telangana</td>\n",
              "    </tr>\n",
              "    <tr>\n",
              "      <th>12</th>\n",
              "      <td>Jagityal</td>\n",
              "      <td>18.48</td>\n",
              "      <td>79.09</td>\n",
              "      <td>India</td>\n",
              "      <td>IN</td>\n",
              "      <td>Telangana</td>\n",
              "    </tr>\n",
              "    <tr>\n",
              "      <th>13</th>\n",
              "      <td>Kamareddy</td>\n",
              "      <td>18.18</td>\n",
              "      <td>78.22</td>\n",
              "      <td>India</td>\n",
              "      <td>IN</td>\n",
              "      <td>Telangana</td>\n",
              "    </tr>\n",
              "    <tr>\n",
              "      <th>14</th>\n",
              "      <td>Kandi</td>\n",
              "      <td>17.36</td>\n",
              "      <td>78.05</td>\n",
              "      <td>India</td>\n",
              "      <td>IN</td>\n",
              "      <td>Telangana</td>\n",
              "    </tr>\n",
              "    <tr>\n",
              "      <th>15</th>\n",
              "      <td>Karimnagar</td>\n",
              "      <td>18.28</td>\n",
              "      <td>79.06</td>\n",
              "      <td>India</td>\n",
              "      <td>IN</td>\n",
              "      <td>Telangana</td>\n",
              "    </tr>\n",
              "    <tr>\n",
              "      <th>16</th>\n",
              "      <td>Khammam</td>\n",
              "      <td>17.15</td>\n",
              "      <td>80.11</td>\n",
              "      <td>India</td>\n",
              "      <td>IN</td>\n",
              "      <td>Telangana</td>\n",
              "    </tr>\n",
              "    <tr>\n",
              "      <th>17</th>\n",
              "      <td>Kodangal</td>\n",
              "      <td>17.08</td>\n",
              "      <td>77.36</td>\n",
              "      <td>India</td>\n",
              "      <td>IN</td>\n",
              "      <td>Telangana</td>\n",
              "    </tr>\n",
              "    <tr>\n",
              "      <th>18</th>\n",
              "      <td>Kohir</td>\n",
              "      <td>17.35</td>\n",
              "      <td>77.40</td>\n",
              "      <td>India</td>\n",
              "      <td>IN</td>\n",
              "      <td>Telangana</td>\n",
              "    </tr>\n",
              "    <tr>\n",
              "      <th>19</th>\n",
              "      <td>Koilkonda</td>\n",
              "      <td>16.45</td>\n",
              "      <td>77.50</td>\n",
              "      <td>India</td>\n",
              "      <td>IN</td>\n",
              "      <td>Telangana</td>\n",
              "    </tr>\n",
              "    <tr>\n",
              "      <th>20</th>\n",
              "      <td>Koratla</td>\n",
              "      <td>18.43</td>\n",
              "      <td>78.41</td>\n",
              "      <td>India</td>\n",
              "      <td>IN</td>\n",
              "      <td>Telangana</td>\n",
              "    </tr>\n",
              "    <tr>\n",
              "      <th>21</th>\n",
              "      <td>Kosgi</td>\n",
              "      <td>17.00</td>\n",
              "      <td>77.43</td>\n",
              "      <td>India</td>\n",
              "      <td>IN</td>\n",
              "      <td>Telangana</td>\n",
              "    </tr>\n",
              "    <tr>\n",
              "      <th>22</th>\n",
              "      <td>Kothagudem</td>\n",
              "      <td>17.30</td>\n",
              "      <td>80.40</td>\n",
              "      <td>India</td>\n",
              "      <td>IN</td>\n",
              "      <td>Telangana</td>\n",
              "    </tr>\n",
              "    <tr>\n",
              "      <th>23</th>\n",
              "      <td>Mahabubnagar</td>\n",
              "      <td>16.42</td>\n",
              "      <td>77.58</td>\n",
              "      <td>India</td>\n",
              "      <td>IN</td>\n",
              "      <td>Telangana</td>\n",
              "    </tr>\n",
              "    <tr>\n",
              "      <th>24</th>\n",
              "      <td>Medak</td>\n",
              "      <td>18.03</td>\n",
              "      <td>78.18</td>\n",
              "      <td>India</td>\n",
              "      <td>IN</td>\n",
              "      <td>Telangana</td>\n",
              "    </tr>\n",
              "    <tr>\n",
              "      <th>25</th>\n",
              "      <td>Nagar Kurnool</td>\n",
              "      <td>16.30</td>\n",
              "      <td>78.19</td>\n",
              "      <td>India</td>\n",
              "      <td>IN</td>\n",
              "      <td>Telangana</td>\n",
              "    </tr>\n",
              "    <tr>\n",
              "      <th>26</th>\n",
              "      <td>Nalgonda</td>\n",
              "      <td>17.03</td>\n",
              "      <td>79.02</td>\n",
              "      <td>India</td>\n",
              "      <td>IN</td>\n",
              "      <td>Telangana</td>\n",
              "    </tr>\n",
              "    <tr>\n",
              "      <th>27</th>\n",
              "      <td>Nallamala Range</td>\n",
              "      <td>15.00</td>\n",
              "      <td>78.38</td>\n",
              "      <td>India</td>\n",
              "      <td>IN</td>\n",
              "      <td>Telangana</td>\n",
              "    </tr>\n",
              "    <tr>\n",
              "      <th>28</th>\n",
              "      <td>Narayanpet</td>\n",
              "      <td>16.46</td>\n",
              "      <td>77.27</td>\n",
              "      <td>India</td>\n",
              "      <td>IN</td>\n",
              "      <td>Telangana</td>\n",
              "    </tr>\n",
              "    <tr>\n",
              "      <th>29</th>\n",
              "      <td>Nirmal</td>\n",
              "      <td>19.06</td>\n",
              "      <td>78.25</td>\n",
              "      <td>India</td>\n",
              "      <td>IN</td>\n",
              "      <td>Telangana</td>\n",
              "    </tr>\n",
              "    <tr>\n",
              "      <th>30</th>\n",
              "      <td>Nizamabad</td>\n",
              "      <td>18.40</td>\n",
              "      <td>78.10</td>\n",
              "      <td>India</td>\n",
              "      <td>IN</td>\n",
              "      <td>Telangana</td>\n",
              "    </tr>\n",
              "    <tr>\n",
              "      <th>31</th>\n",
              "      <td>Patancheru</td>\n",
              "      <td>17.36</td>\n",
              "      <td>78.20</td>\n",
              "      <td>India</td>\n",
              "      <td>IN</td>\n",
              "      <td>Telangana</td>\n",
              "    </tr>\n",
              "    <tr>\n",
              "      <th>32</th>\n",
              "      <td>Rekhapalle</td>\n",
              "      <td>17.34</td>\n",
              "      <td>81.20</td>\n",
              "      <td>India</td>\n",
              "      <td>IN</td>\n",
              "      <td>Telangana</td>\n",
              "    </tr>\n",
              "    <tr>\n",
              "      <th>33</th>\n",
              "      <td>Sadasivpet</td>\n",
              "      <td>17.40</td>\n",
              "      <td>77.58</td>\n",
              "      <td>India</td>\n",
              "      <td>IN</td>\n",
              "      <td>Telangana</td>\n",
              "    </tr>\n",
              "    <tr>\n",
              "      <th>34</th>\n",
              "      <td>Secunderabad</td>\n",
              "      <td>17.27</td>\n",
              "      <td>78.33</td>\n",
              "      <td>India</td>\n",
              "      <td>IN</td>\n",
              "      <td>Telangana</td>\n",
              "    </tr>\n",
              "    <tr>\n",
              "      <th>35</th>\n",
              "      <td>Siddipet</td>\n",
              "      <td>18.07</td>\n",
              "      <td>78.50</td>\n",
              "      <td>India</td>\n",
              "      <td>IN</td>\n",
              "      <td>Telangana</td>\n",
              "    </tr>\n",
              "    <tr>\n",
              "      <th>36</th>\n",
              "      <td>Tandur</td>\n",
              "      <td>17.17</td>\n",
              "      <td>77.30</td>\n",
              "      <td>India</td>\n",
              "      <td>IN</td>\n",
              "      <td>Telangana</td>\n",
              "    </tr>\n",
              "    <tr>\n",
              "      <th>37</th>\n",
              "      <td>Vemalawada</td>\n",
              "      <td>18.30</td>\n",
              "      <td>78.56</td>\n",
              "      <td>India</td>\n",
              "      <td>IN</td>\n",
              "      <td>Telangana</td>\n",
              "    </tr>\n",
              "    <tr>\n",
              "      <th>38</th>\n",
              "      <td>Venkatapuram</td>\n",
              "      <td>18.17</td>\n",
              "      <td>80.36</td>\n",
              "      <td>India</td>\n",
              "      <td>IN</td>\n",
              "      <td>Telangana</td>\n",
              "    </tr>\n",
              "    <tr>\n",
              "      <th>39</th>\n",
              "      <td>Warangal</td>\n",
              "      <td>17.58</td>\n",
              "      <td>79.40</td>\n",
              "      <td>India</td>\n",
              "      <td>IN</td>\n",
              "      <td>Telangana</td>\n",
              "    </tr>\n",
              "    <tr>\n",
              "      <th>40</th>\n",
              "      <td>Yellandu</td>\n",
              "      <td>17.37</td>\n",
              "      <td>80.23</td>\n",
              "      <td>India</td>\n",
              "      <td>IN</td>\n",
              "      <td>Telangana</td>\n",
              "    </tr>\n",
              "  </tbody>\n",
              "</table>\n",
              "</div>\n",
              "      <button class=\"colab-df-convert\" onclick=\"convertToInteractive('df-29d91515-d7aa-41dd-8e79-c0dd1c713cc9')\"\n",
              "              title=\"Convert this dataframe to an interactive table.\"\n",
              "              style=\"display:none;\">\n",
              "        \n",
              "  <svg xmlns=\"http://www.w3.org/2000/svg\" height=\"24px\"viewBox=\"0 0 24 24\"\n",
              "       width=\"24px\">\n",
              "    <path d=\"M0 0h24v24H0V0z\" fill=\"none\"/>\n",
              "    <path d=\"M18.56 5.44l.94 2.06.94-2.06 2.06-.94-2.06-.94-.94-2.06-.94 2.06-2.06.94zm-11 1L8.5 8.5l.94-2.06 2.06-.94-2.06-.94L8.5 2.5l-.94 2.06-2.06.94zm10 10l.94 2.06.94-2.06 2.06-.94-2.06-.94-.94-2.06-.94 2.06-2.06.94z\"/><path d=\"M17.41 7.96l-1.37-1.37c-.4-.4-.92-.59-1.43-.59-.52 0-1.04.2-1.43.59L10.3 9.45l-7.72 7.72c-.78.78-.78 2.05 0 2.83L4 21.41c.39.39.9.59 1.41.59.51 0 1.02-.2 1.41-.59l7.78-7.78 2.81-2.81c.8-.78.8-2.07 0-2.86zM5.41 20L4 18.59l7.72-7.72 1.47 1.35L5.41 20z\"/>\n",
              "  </svg>\n",
              "      </button>\n",
              "      \n",
              "  <style>\n",
              "    .colab-df-container {\n",
              "      display:flex;\n",
              "      flex-wrap:wrap;\n",
              "      gap: 12px;\n",
              "    }\n",
              "\n",
              "    .colab-df-convert {\n",
              "      background-color: #E8F0FE;\n",
              "      border: none;\n",
              "      border-radius: 50%;\n",
              "      cursor: pointer;\n",
              "      display: none;\n",
              "      fill: #1967D2;\n",
              "      height: 32px;\n",
              "      padding: 0 0 0 0;\n",
              "      width: 32px;\n",
              "    }\n",
              "\n",
              "    .colab-df-convert:hover {\n",
              "      background-color: #E2EBFA;\n",
              "      box-shadow: 0px 1px 2px rgba(60, 64, 67, 0.3), 0px 1px 3px 1px rgba(60, 64, 67, 0.15);\n",
              "      fill: #174EA6;\n",
              "    }\n",
              "\n",
              "    [theme=dark] .colab-df-convert {\n",
              "      background-color: #3B4455;\n",
              "      fill: #D2E3FC;\n",
              "    }\n",
              "\n",
              "    [theme=dark] .colab-df-convert:hover {\n",
              "      background-color: #434B5C;\n",
              "      box-shadow: 0px 1px 3px 1px rgba(0, 0, 0, 0.15);\n",
              "      filter: drop-shadow(0px 1px 2px rgba(0, 0, 0, 0.3));\n",
              "      fill: #FFFFFF;\n",
              "    }\n",
              "  </style>\n",
              "\n",
              "      <script>\n",
              "        const buttonEl =\n",
              "          document.querySelector('#df-29d91515-d7aa-41dd-8e79-c0dd1c713cc9 button.colab-df-convert');\n",
              "        buttonEl.style.display =\n",
              "          google.colab.kernel.accessAllowed ? 'block' : 'none';\n",
              "\n",
              "        async function convertToInteractive(key) {\n",
              "          const element = document.querySelector('#df-29d91515-d7aa-41dd-8e79-c0dd1c713cc9');\n",
              "          const dataTable =\n",
              "            await google.colab.kernel.invokeFunction('convertToInteractive',\n",
              "                                                     [key], {});\n",
              "          if (!dataTable) return;\n",
              "\n",
              "          const docLinkHtml = 'Like what you see? Visit the ' +\n",
              "            '<a target=\"_blank\" href=https://colab.research.google.com/notebooks/data_table.ipynb>data table notebook</a>'\n",
              "            + ' to learn more about interactive tables.';\n",
              "          element.innerHTML = '';\n",
              "          dataTable['output_type'] = 'display_data';\n",
              "          await google.colab.output.renderOutput(dataTable, element);\n",
              "          const docLink = document.createElement('div');\n",
              "          docLink.innerHTML = docLinkHtml;\n",
              "          element.appendChild(docLink);\n",
              "        }\n",
              "      </script>\n",
              "    </div>\n",
              "  </div>\n",
              "  "
            ],
            "text/plain": [
              "               City    Lat   Long country iso2      State\n",
              "0          Adilabad  19.37  78.30   India   IN  Telangana\n",
              "1           Alampur  15.54  78.11   India   IN  Telangana\n",
              "2            Armoor  18.48  78.16   India   IN  Telangana\n",
              "3          Balkonda  19.05  78.20   India   IN  Telangana\n",
              "4      Bhadrachalam  17.40  80.56   India   IN  Telangana\n",
              "5           Bhainsa  19.10  77.58   India   IN  Telangana\n",
              "6            Bodhan  18.39  77.50   India   IN  Telangana\n",
              "7       Devarakonda  16.42  78.58   India   IN  Telangana\n",
              "8            Gadwal  16.13  77.48   India   IN  Telangana\n",
              "9          Golconda  17.23  78.27   India   IN  Telangana\n",
              "10       Hanamkonda  18.10  79.46   India   IN  Telangana\n",
              "11        Hyderabad  17.20  78.30   India   IN  Telangana\n",
              "12         Jagityal  18.48  79.09   India   IN  Telangana\n",
              "13        Kamareddy  18.18  78.22   India   IN  Telangana\n",
              "14            Kandi  17.36  78.05   India   IN  Telangana\n",
              "15       Karimnagar  18.28  79.06   India   IN  Telangana\n",
              "16          Khammam  17.15  80.11   India   IN  Telangana\n",
              "17         Kodangal  17.08  77.36   India   IN  Telangana\n",
              "18            Kohir  17.35  77.40   India   IN  Telangana\n",
              "19        Koilkonda  16.45  77.50   India   IN  Telangana\n",
              "20          Koratla  18.43  78.41   India   IN  Telangana\n",
              "21            Kosgi  17.00  77.43   India   IN  Telangana\n",
              "22       Kothagudem  17.30  80.40   India   IN  Telangana\n",
              "23     Mahabubnagar  16.42  77.58   India   IN  Telangana\n",
              "24            Medak  18.03  78.18   India   IN  Telangana\n",
              "25    Nagar Kurnool  16.30  78.19   India   IN  Telangana\n",
              "26         Nalgonda  17.03  79.02   India   IN  Telangana\n",
              "27  Nallamala Range  15.00  78.38   India   IN  Telangana\n",
              "28       Narayanpet  16.46  77.27   India   IN  Telangana\n",
              "29           Nirmal  19.06  78.25   India   IN  Telangana\n",
              "30        Nizamabad  18.40  78.10   India   IN  Telangana\n",
              "31       Patancheru  17.36  78.20   India   IN  Telangana\n",
              "32       Rekhapalle  17.34  81.20   India   IN  Telangana\n",
              "33       Sadasivpet  17.40  77.58   India   IN  Telangana\n",
              "34     Secunderabad  17.27  78.33   India   IN  Telangana\n",
              "35         Siddipet  18.07  78.50   India   IN  Telangana\n",
              "36           Tandur  17.17  77.30   India   IN  Telangana\n",
              "37       Vemalawada  18.30  78.56   India   IN  Telangana\n",
              "38     Venkatapuram  18.17  80.36   India   IN  Telangana\n",
              "39         Warangal  17.58  79.40   India   IN  Telangana\n",
              "40         Yellandu  17.37  80.23   India   IN  Telangana"
            ]
          },
          "metadata": {},
          "execution_count": 138
        }
      ],
      "source": [
        "df"
      ]
    },
    {
      "cell_type": "code",
      "execution_count": 139,
      "metadata": {
        "colab": {
          "base_uri": "https://localhost:8080/"
        },
        "id": "6Gigrs7grX7F",
        "outputId": "503eae29-e714-4398-bf43-7714a22e7082"
      },
      "outputs": [
        {
          "output_type": "execute_result",
          "data": {
            "text/plain": [
              "41"
            ]
          },
          "metadata": {},
          "execution_count": 139
        }
      ],
      "source": [
        "df['City'].nunique()"
      ]
    },
    {
      "cell_type": "markdown",
      "metadata": {
        "id": "Bs9i8vkgrX7G"
      },
      "source": [
        "Removing some errors in the dataset."
      ]
    },
    {
      "cell_type": "code",
      "execution_count": 140,
      "metadata": {
        "colab": {
          "base_uri": "https://localhost:8080/",
          "height": 300
        },
        "id": "-BC4htldrX7J",
        "outputId": "48bd1d00-4474-47a7-c34a-5cc6da646edd"
      },
      "outputs": [
        {
          "output_type": "execute_result",
          "data": {
            "text/html": [
              "\n",
              "  <div id=\"df-b89dfe8a-0e2a-4573-8f04-a1b16c193a34\">\n",
              "    <div class=\"colab-df-container\">\n",
              "      <div>\n",
              "<style scoped>\n",
              "    .dataframe tbody tr th:only-of-type {\n",
              "        vertical-align: middle;\n",
              "    }\n",
              "\n",
              "    .dataframe tbody tr th {\n",
              "        vertical-align: top;\n",
              "    }\n",
              "\n",
              "    .dataframe thead th {\n",
              "        text-align: right;\n",
              "    }\n",
              "</style>\n",
              "<table border=\"1\" class=\"dataframe\">\n",
              "  <thead>\n",
              "    <tr style=\"text-align: right;\">\n",
              "      <th></th>\n",
              "      <th>Lat</th>\n",
              "      <th>Long</th>\n",
              "    </tr>\n",
              "  </thead>\n",
              "  <tbody>\n",
              "    <tr>\n",
              "      <th>count</th>\n",
              "      <td>41.000000</td>\n",
              "      <td>41.000000</td>\n",
              "    </tr>\n",
              "    <tr>\n",
              "      <th>mean</th>\n",
              "      <td>17.517073</td>\n",
              "      <td>78.491707</td>\n",
              "    </tr>\n",
              "    <tr>\n",
              "      <th>std</th>\n",
              "      <td>0.969341</td>\n",
              "      <td>1.004739</td>\n",
              "    </tr>\n",
              "    <tr>\n",
              "      <th>min</th>\n",
              "      <td>15.000000</td>\n",
              "      <td>77.270000</td>\n",
              "    </tr>\n",
              "    <tr>\n",
              "      <th>25%</th>\n",
              "      <td>17.080000</td>\n",
              "      <td>77.580000</td>\n",
              "    </tr>\n",
              "    <tr>\n",
              "      <th>50%</th>\n",
              "      <td>17.360000</td>\n",
              "      <td>78.250000</td>\n",
              "    </tr>\n",
              "    <tr>\n",
              "      <th>75%</th>\n",
              "      <td>18.280000</td>\n",
              "      <td>79.020000</td>\n",
              "    </tr>\n",
              "    <tr>\n",
              "      <th>max</th>\n",
              "      <td>19.370000</td>\n",
              "      <td>81.200000</td>\n",
              "    </tr>\n",
              "  </tbody>\n",
              "</table>\n",
              "</div>\n",
              "      <button class=\"colab-df-convert\" onclick=\"convertToInteractive('df-b89dfe8a-0e2a-4573-8f04-a1b16c193a34')\"\n",
              "              title=\"Convert this dataframe to an interactive table.\"\n",
              "              style=\"display:none;\">\n",
              "        \n",
              "  <svg xmlns=\"http://www.w3.org/2000/svg\" height=\"24px\"viewBox=\"0 0 24 24\"\n",
              "       width=\"24px\">\n",
              "    <path d=\"M0 0h24v24H0V0z\" fill=\"none\"/>\n",
              "    <path d=\"M18.56 5.44l.94 2.06.94-2.06 2.06-.94-2.06-.94-.94-2.06-.94 2.06-2.06.94zm-11 1L8.5 8.5l.94-2.06 2.06-.94-2.06-.94L8.5 2.5l-.94 2.06-2.06.94zm10 10l.94 2.06.94-2.06 2.06-.94-2.06-.94-.94-2.06-.94 2.06-2.06.94z\"/><path d=\"M17.41 7.96l-1.37-1.37c-.4-.4-.92-.59-1.43-.59-.52 0-1.04.2-1.43.59L10.3 9.45l-7.72 7.72c-.78.78-.78 2.05 0 2.83L4 21.41c.39.39.9.59 1.41.59.51 0 1.02-.2 1.41-.59l7.78-7.78 2.81-2.81c.8-.78.8-2.07 0-2.86zM5.41 20L4 18.59l7.72-7.72 1.47 1.35L5.41 20z\"/>\n",
              "  </svg>\n",
              "      </button>\n",
              "      \n",
              "  <style>\n",
              "    .colab-df-container {\n",
              "      display:flex;\n",
              "      flex-wrap:wrap;\n",
              "      gap: 12px;\n",
              "    }\n",
              "\n",
              "    .colab-df-convert {\n",
              "      background-color: #E8F0FE;\n",
              "      border: none;\n",
              "      border-radius: 50%;\n",
              "      cursor: pointer;\n",
              "      display: none;\n",
              "      fill: #1967D2;\n",
              "      height: 32px;\n",
              "      padding: 0 0 0 0;\n",
              "      width: 32px;\n",
              "    }\n",
              "\n",
              "    .colab-df-convert:hover {\n",
              "      background-color: #E2EBFA;\n",
              "      box-shadow: 0px 1px 2px rgba(60, 64, 67, 0.3), 0px 1px 3px 1px rgba(60, 64, 67, 0.15);\n",
              "      fill: #174EA6;\n",
              "    }\n",
              "\n",
              "    [theme=dark] .colab-df-convert {\n",
              "      background-color: #3B4455;\n",
              "      fill: #D2E3FC;\n",
              "    }\n",
              "\n",
              "    [theme=dark] .colab-df-convert:hover {\n",
              "      background-color: #434B5C;\n",
              "      box-shadow: 0px 1px 3px 1px rgba(0, 0, 0, 0.15);\n",
              "      filter: drop-shadow(0px 1px 2px rgba(0, 0, 0, 0.3));\n",
              "      fill: #FFFFFF;\n",
              "    }\n",
              "  </style>\n",
              "\n",
              "      <script>\n",
              "        const buttonEl =\n",
              "          document.querySelector('#df-b89dfe8a-0e2a-4573-8f04-a1b16c193a34 button.colab-df-convert');\n",
              "        buttonEl.style.display =\n",
              "          google.colab.kernel.accessAllowed ? 'block' : 'none';\n",
              "\n",
              "        async function convertToInteractive(key) {\n",
              "          const element = document.querySelector('#df-b89dfe8a-0e2a-4573-8f04-a1b16c193a34');\n",
              "          const dataTable =\n",
              "            await google.colab.kernel.invokeFunction('convertToInteractive',\n",
              "                                                     [key], {});\n",
              "          if (!dataTable) return;\n",
              "\n",
              "          const docLinkHtml = 'Like what you see? Visit the ' +\n",
              "            '<a target=\"_blank\" href=https://colab.research.google.com/notebooks/data_table.ipynb>data table notebook</a>'\n",
              "            + ' to learn more about interactive tables.';\n",
              "          element.innerHTML = '';\n",
              "          dataTable['output_type'] = 'display_data';\n",
              "          await google.colab.output.renderOutput(dataTable, element);\n",
              "          const docLink = document.createElement('div');\n",
              "          docLink.innerHTML = docLinkHtml;\n",
              "          element.appendChild(docLink);\n",
              "        }\n",
              "      </script>\n",
              "    </div>\n",
              "  </div>\n",
              "  "
            ],
            "text/plain": [
              "             Lat       Long\n",
              "count  41.000000  41.000000\n",
              "mean   17.517073  78.491707\n",
              "std     0.969341   1.004739\n",
              "min    15.000000  77.270000\n",
              "25%    17.080000  77.580000\n",
              "50%    17.360000  78.250000\n",
              "75%    18.280000  79.020000\n",
              "max    19.370000  81.200000"
            ]
          },
          "metadata": {},
          "execution_count": 140
        }
      ],
      "source": [
        "df.describe()"
      ]
    },
    {
      "cell_type": "raw",
      "metadata": {
        "id": "pUj0AyhFrX7K"
      },
      "source": [
        "1) We have 213 cities in the data set.\n",
        "2) Latitude and Longitude will be our point of intrest."
      ]
    },
    {
      "cell_type": "code",
      "execution_count": 141,
      "metadata": {
        "id": "EKRWolcsrX7K"
      },
      "outputs": [],
      "source": [
        "#sorting by city name\n",
        "df = df.sort_values(by=['City'])"
      ]
    },
    {
      "cell_type": "code",
      "execution_count": 142,
      "metadata": {
        "id": "WulwohJ5rX7K"
      },
      "outputs": [],
      "source": [
        "df.reset_index(inplace=True)"
      ]
    },
    {
      "cell_type": "code",
      "execution_count": 143,
      "metadata": {
        "colab": {
          "base_uri": "https://localhost:8080/"
        },
        "id": "Dz8vfAkCrX7L",
        "outputId": "1fad5ee7-2722-4323-da90-ca63ef055255"
      },
      "outputs": [
        {
          "output_type": "execute_result",
          "data": {
            "text/plain": [
              "(41, 7)"
            ]
          },
          "metadata": {},
          "execution_count": 143
        }
      ],
      "source": [
        "df.shape"
      ]
    },
    {
      "cell_type": "code",
      "execution_count": 144,
      "metadata": {
        "colab": {
          "base_uri": "https://localhost:8080/",
          "height": 1000
        },
        "id": "EgUIDlB2rX7L",
        "outputId": "7b347382-46e5-431f-ecac-2a7d149a2d09"
      },
      "outputs": [
        {
          "output_type": "execute_result",
          "data": {
            "text/html": [
              "\n",
              "  <div id=\"df-dac137e8-2132-4417-a85b-fd9cb2273168\">\n",
              "    <div class=\"colab-df-container\">\n",
              "      <div>\n",
              "<style scoped>\n",
              "    .dataframe tbody tr th:only-of-type {\n",
              "        vertical-align: middle;\n",
              "    }\n",
              "\n",
              "    .dataframe tbody tr th {\n",
              "        vertical-align: top;\n",
              "    }\n",
              "\n",
              "    .dataframe thead th {\n",
              "        text-align: right;\n",
              "    }\n",
              "</style>\n",
              "<table border=\"1\" class=\"dataframe\">\n",
              "  <thead>\n",
              "    <tr style=\"text-align: right;\">\n",
              "      <th></th>\n",
              "      <th>index</th>\n",
              "      <th>City</th>\n",
              "      <th>Lat</th>\n",
              "      <th>Long</th>\n",
              "      <th>country</th>\n",
              "      <th>iso2</th>\n",
              "      <th>State</th>\n",
              "    </tr>\n",
              "  </thead>\n",
              "  <tbody>\n",
              "    <tr>\n",
              "      <th>0</th>\n",
              "      <td>0</td>\n",
              "      <td>Adilabad</td>\n",
              "      <td>19.37</td>\n",
              "      <td>78.30</td>\n",
              "      <td>India</td>\n",
              "      <td>IN</td>\n",
              "      <td>Telangana</td>\n",
              "    </tr>\n",
              "    <tr>\n",
              "      <th>1</th>\n",
              "      <td>1</td>\n",
              "      <td>Alampur</td>\n",
              "      <td>15.54</td>\n",
              "      <td>78.11</td>\n",
              "      <td>India</td>\n",
              "      <td>IN</td>\n",
              "      <td>Telangana</td>\n",
              "    </tr>\n",
              "    <tr>\n",
              "      <th>2</th>\n",
              "      <td>2</td>\n",
              "      <td>Armoor</td>\n",
              "      <td>18.48</td>\n",
              "      <td>78.16</td>\n",
              "      <td>India</td>\n",
              "      <td>IN</td>\n",
              "      <td>Telangana</td>\n",
              "    </tr>\n",
              "    <tr>\n",
              "      <th>3</th>\n",
              "      <td>3</td>\n",
              "      <td>Balkonda</td>\n",
              "      <td>19.05</td>\n",
              "      <td>78.20</td>\n",
              "      <td>India</td>\n",
              "      <td>IN</td>\n",
              "      <td>Telangana</td>\n",
              "    </tr>\n",
              "    <tr>\n",
              "      <th>4</th>\n",
              "      <td>4</td>\n",
              "      <td>Bhadrachalam</td>\n",
              "      <td>17.40</td>\n",
              "      <td>80.56</td>\n",
              "      <td>India</td>\n",
              "      <td>IN</td>\n",
              "      <td>Telangana</td>\n",
              "    </tr>\n",
              "    <tr>\n",
              "      <th>5</th>\n",
              "      <td>5</td>\n",
              "      <td>Bhainsa</td>\n",
              "      <td>19.10</td>\n",
              "      <td>77.58</td>\n",
              "      <td>India</td>\n",
              "      <td>IN</td>\n",
              "      <td>Telangana</td>\n",
              "    </tr>\n",
              "    <tr>\n",
              "      <th>6</th>\n",
              "      <td>6</td>\n",
              "      <td>Bodhan</td>\n",
              "      <td>18.39</td>\n",
              "      <td>77.50</td>\n",
              "      <td>India</td>\n",
              "      <td>IN</td>\n",
              "      <td>Telangana</td>\n",
              "    </tr>\n",
              "    <tr>\n",
              "      <th>7</th>\n",
              "      <td>7</td>\n",
              "      <td>Devarakonda</td>\n",
              "      <td>16.42</td>\n",
              "      <td>78.58</td>\n",
              "      <td>India</td>\n",
              "      <td>IN</td>\n",
              "      <td>Telangana</td>\n",
              "    </tr>\n",
              "    <tr>\n",
              "      <th>8</th>\n",
              "      <td>8</td>\n",
              "      <td>Gadwal</td>\n",
              "      <td>16.13</td>\n",
              "      <td>77.48</td>\n",
              "      <td>India</td>\n",
              "      <td>IN</td>\n",
              "      <td>Telangana</td>\n",
              "    </tr>\n",
              "    <tr>\n",
              "      <th>9</th>\n",
              "      <td>9</td>\n",
              "      <td>Golconda</td>\n",
              "      <td>17.23</td>\n",
              "      <td>78.27</td>\n",
              "      <td>India</td>\n",
              "      <td>IN</td>\n",
              "      <td>Telangana</td>\n",
              "    </tr>\n",
              "    <tr>\n",
              "      <th>10</th>\n",
              "      <td>10</td>\n",
              "      <td>Hanamkonda</td>\n",
              "      <td>18.10</td>\n",
              "      <td>79.46</td>\n",
              "      <td>India</td>\n",
              "      <td>IN</td>\n",
              "      <td>Telangana</td>\n",
              "    </tr>\n",
              "    <tr>\n",
              "      <th>11</th>\n",
              "      <td>11</td>\n",
              "      <td>Hyderabad</td>\n",
              "      <td>17.20</td>\n",
              "      <td>78.30</td>\n",
              "      <td>India</td>\n",
              "      <td>IN</td>\n",
              "      <td>Telangana</td>\n",
              "    </tr>\n",
              "    <tr>\n",
              "      <th>12</th>\n",
              "      <td>12</td>\n",
              "      <td>Jagityal</td>\n",
              "      <td>18.48</td>\n",
              "      <td>79.09</td>\n",
              "      <td>India</td>\n",
              "      <td>IN</td>\n",
              "      <td>Telangana</td>\n",
              "    </tr>\n",
              "    <tr>\n",
              "      <th>13</th>\n",
              "      <td>13</td>\n",
              "      <td>Kamareddy</td>\n",
              "      <td>18.18</td>\n",
              "      <td>78.22</td>\n",
              "      <td>India</td>\n",
              "      <td>IN</td>\n",
              "      <td>Telangana</td>\n",
              "    </tr>\n",
              "    <tr>\n",
              "      <th>14</th>\n",
              "      <td>14</td>\n",
              "      <td>Kandi</td>\n",
              "      <td>17.36</td>\n",
              "      <td>78.05</td>\n",
              "      <td>India</td>\n",
              "      <td>IN</td>\n",
              "      <td>Telangana</td>\n",
              "    </tr>\n",
              "    <tr>\n",
              "      <th>15</th>\n",
              "      <td>15</td>\n",
              "      <td>Karimnagar</td>\n",
              "      <td>18.28</td>\n",
              "      <td>79.06</td>\n",
              "      <td>India</td>\n",
              "      <td>IN</td>\n",
              "      <td>Telangana</td>\n",
              "    </tr>\n",
              "    <tr>\n",
              "      <th>16</th>\n",
              "      <td>16</td>\n",
              "      <td>Khammam</td>\n",
              "      <td>17.15</td>\n",
              "      <td>80.11</td>\n",
              "      <td>India</td>\n",
              "      <td>IN</td>\n",
              "      <td>Telangana</td>\n",
              "    </tr>\n",
              "    <tr>\n",
              "      <th>17</th>\n",
              "      <td>17</td>\n",
              "      <td>Kodangal</td>\n",
              "      <td>17.08</td>\n",
              "      <td>77.36</td>\n",
              "      <td>India</td>\n",
              "      <td>IN</td>\n",
              "      <td>Telangana</td>\n",
              "    </tr>\n",
              "    <tr>\n",
              "      <th>18</th>\n",
              "      <td>18</td>\n",
              "      <td>Kohir</td>\n",
              "      <td>17.35</td>\n",
              "      <td>77.40</td>\n",
              "      <td>India</td>\n",
              "      <td>IN</td>\n",
              "      <td>Telangana</td>\n",
              "    </tr>\n",
              "    <tr>\n",
              "      <th>19</th>\n",
              "      <td>19</td>\n",
              "      <td>Koilkonda</td>\n",
              "      <td>16.45</td>\n",
              "      <td>77.50</td>\n",
              "      <td>India</td>\n",
              "      <td>IN</td>\n",
              "      <td>Telangana</td>\n",
              "    </tr>\n",
              "    <tr>\n",
              "      <th>20</th>\n",
              "      <td>20</td>\n",
              "      <td>Koratla</td>\n",
              "      <td>18.43</td>\n",
              "      <td>78.41</td>\n",
              "      <td>India</td>\n",
              "      <td>IN</td>\n",
              "      <td>Telangana</td>\n",
              "    </tr>\n",
              "    <tr>\n",
              "      <th>21</th>\n",
              "      <td>21</td>\n",
              "      <td>Kosgi</td>\n",
              "      <td>17.00</td>\n",
              "      <td>77.43</td>\n",
              "      <td>India</td>\n",
              "      <td>IN</td>\n",
              "      <td>Telangana</td>\n",
              "    </tr>\n",
              "    <tr>\n",
              "      <th>22</th>\n",
              "      <td>22</td>\n",
              "      <td>Kothagudem</td>\n",
              "      <td>17.30</td>\n",
              "      <td>80.40</td>\n",
              "      <td>India</td>\n",
              "      <td>IN</td>\n",
              "      <td>Telangana</td>\n",
              "    </tr>\n",
              "    <tr>\n",
              "      <th>23</th>\n",
              "      <td>23</td>\n",
              "      <td>Mahabubnagar</td>\n",
              "      <td>16.42</td>\n",
              "      <td>77.58</td>\n",
              "      <td>India</td>\n",
              "      <td>IN</td>\n",
              "      <td>Telangana</td>\n",
              "    </tr>\n",
              "    <tr>\n",
              "      <th>24</th>\n",
              "      <td>24</td>\n",
              "      <td>Medak</td>\n",
              "      <td>18.03</td>\n",
              "      <td>78.18</td>\n",
              "      <td>India</td>\n",
              "      <td>IN</td>\n",
              "      <td>Telangana</td>\n",
              "    </tr>\n",
              "    <tr>\n",
              "      <th>25</th>\n",
              "      <td>25</td>\n",
              "      <td>Nagar Kurnool</td>\n",
              "      <td>16.30</td>\n",
              "      <td>78.19</td>\n",
              "      <td>India</td>\n",
              "      <td>IN</td>\n",
              "      <td>Telangana</td>\n",
              "    </tr>\n",
              "    <tr>\n",
              "      <th>26</th>\n",
              "      <td>26</td>\n",
              "      <td>Nalgonda</td>\n",
              "      <td>17.03</td>\n",
              "      <td>79.02</td>\n",
              "      <td>India</td>\n",
              "      <td>IN</td>\n",
              "      <td>Telangana</td>\n",
              "    </tr>\n",
              "    <tr>\n",
              "      <th>27</th>\n",
              "      <td>27</td>\n",
              "      <td>Nallamala Range</td>\n",
              "      <td>15.00</td>\n",
              "      <td>78.38</td>\n",
              "      <td>India</td>\n",
              "      <td>IN</td>\n",
              "      <td>Telangana</td>\n",
              "    </tr>\n",
              "    <tr>\n",
              "      <th>28</th>\n",
              "      <td>28</td>\n",
              "      <td>Narayanpet</td>\n",
              "      <td>16.46</td>\n",
              "      <td>77.27</td>\n",
              "      <td>India</td>\n",
              "      <td>IN</td>\n",
              "      <td>Telangana</td>\n",
              "    </tr>\n",
              "    <tr>\n",
              "      <th>29</th>\n",
              "      <td>29</td>\n",
              "      <td>Nirmal</td>\n",
              "      <td>19.06</td>\n",
              "      <td>78.25</td>\n",
              "      <td>India</td>\n",
              "      <td>IN</td>\n",
              "      <td>Telangana</td>\n",
              "    </tr>\n",
              "    <tr>\n",
              "      <th>30</th>\n",
              "      <td>30</td>\n",
              "      <td>Nizamabad</td>\n",
              "      <td>18.40</td>\n",
              "      <td>78.10</td>\n",
              "      <td>India</td>\n",
              "      <td>IN</td>\n",
              "      <td>Telangana</td>\n",
              "    </tr>\n",
              "    <tr>\n",
              "      <th>31</th>\n",
              "      <td>31</td>\n",
              "      <td>Patancheru</td>\n",
              "      <td>17.36</td>\n",
              "      <td>78.20</td>\n",
              "      <td>India</td>\n",
              "      <td>IN</td>\n",
              "      <td>Telangana</td>\n",
              "    </tr>\n",
              "    <tr>\n",
              "      <th>32</th>\n",
              "      <td>32</td>\n",
              "      <td>Rekhapalle</td>\n",
              "      <td>17.34</td>\n",
              "      <td>81.20</td>\n",
              "      <td>India</td>\n",
              "      <td>IN</td>\n",
              "      <td>Telangana</td>\n",
              "    </tr>\n",
              "    <tr>\n",
              "      <th>33</th>\n",
              "      <td>33</td>\n",
              "      <td>Sadasivpet</td>\n",
              "      <td>17.40</td>\n",
              "      <td>77.58</td>\n",
              "      <td>India</td>\n",
              "      <td>IN</td>\n",
              "      <td>Telangana</td>\n",
              "    </tr>\n",
              "    <tr>\n",
              "      <th>34</th>\n",
              "      <td>34</td>\n",
              "      <td>Secunderabad</td>\n",
              "      <td>17.27</td>\n",
              "      <td>78.33</td>\n",
              "      <td>India</td>\n",
              "      <td>IN</td>\n",
              "      <td>Telangana</td>\n",
              "    </tr>\n",
              "    <tr>\n",
              "      <th>35</th>\n",
              "      <td>35</td>\n",
              "      <td>Siddipet</td>\n",
              "      <td>18.07</td>\n",
              "      <td>78.50</td>\n",
              "      <td>India</td>\n",
              "      <td>IN</td>\n",
              "      <td>Telangana</td>\n",
              "    </tr>\n",
              "    <tr>\n",
              "      <th>36</th>\n",
              "      <td>36</td>\n",
              "      <td>Tandur</td>\n",
              "      <td>17.17</td>\n",
              "      <td>77.30</td>\n",
              "      <td>India</td>\n",
              "      <td>IN</td>\n",
              "      <td>Telangana</td>\n",
              "    </tr>\n",
              "    <tr>\n",
              "      <th>37</th>\n",
              "      <td>37</td>\n",
              "      <td>Vemalawada</td>\n",
              "      <td>18.30</td>\n",
              "      <td>78.56</td>\n",
              "      <td>India</td>\n",
              "      <td>IN</td>\n",
              "      <td>Telangana</td>\n",
              "    </tr>\n",
              "    <tr>\n",
              "      <th>38</th>\n",
              "      <td>38</td>\n",
              "      <td>Venkatapuram</td>\n",
              "      <td>18.17</td>\n",
              "      <td>80.36</td>\n",
              "      <td>India</td>\n",
              "      <td>IN</td>\n",
              "      <td>Telangana</td>\n",
              "    </tr>\n",
              "    <tr>\n",
              "      <th>39</th>\n",
              "      <td>39</td>\n",
              "      <td>Warangal</td>\n",
              "      <td>17.58</td>\n",
              "      <td>79.40</td>\n",
              "      <td>India</td>\n",
              "      <td>IN</td>\n",
              "      <td>Telangana</td>\n",
              "    </tr>\n",
              "    <tr>\n",
              "      <th>40</th>\n",
              "      <td>40</td>\n",
              "      <td>Yellandu</td>\n",
              "      <td>17.37</td>\n",
              "      <td>80.23</td>\n",
              "      <td>India</td>\n",
              "      <td>IN</td>\n",
              "      <td>Telangana</td>\n",
              "    </tr>\n",
              "  </tbody>\n",
              "</table>\n",
              "</div>\n",
              "      <button class=\"colab-df-convert\" onclick=\"convertToInteractive('df-dac137e8-2132-4417-a85b-fd9cb2273168')\"\n",
              "              title=\"Convert this dataframe to an interactive table.\"\n",
              "              style=\"display:none;\">\n",
              "        \n",
              "  <svg xmlns=\"http://www.w3.org/2000/svg\" height=\"24px\"viewBox=\"0 0 24 24\"\n",
              "       width=\"24px\">\n",
              "    <path d=\"M0 0h24v24H0V0z\" fill=\"none\"/>\n",
              "    <path d=\"M18.56 5.44l.94 2.06.94-2.06 2.06-.94-2.06-.94-.94-2.06-.94 2.06-2.06.94zm-11 1L8.5 8.5l.94-2.06 2.06-.94-2.06-.94L8.5 2.5l-.94 2.06-2.06.94zm10 10l.94 2.06.94-2.06 2.06-.94-2.06-.94-.94-2.06-.94 2.06-2.06.94z\"/><path d=\"M17.41 7.96l-1.37-1.37c-.4-.4-.92-.59-1.43-.59-.52 0-1.04.2-1.43.59L10.3 9.45l-7.72 7.72c-.78.78-.78 2.05 0 2.83L4 21.41c.39.39.9.59 1.41.59.51 0 1.02-.2 1.41-.59l7.78-7.78 2.81-2.81c.8-.78.8-2.07 0-2.86zM5.41 20L4 18.59l7.72-7.72 1.47 1.35L5.41 20z\"/>\n",
              "  </svg>\n",
              "      </button>\n",
              "      \n",
              "  <style>\n",
              "    .colab-df-container {\n",
              "      display:flex;\n",
              "      flex-wrap:wrap;\n",
              "      gap: 12px;\n",
              "    }\n",
              "\n",
              "    .colab-df-convert {\n",
              "      background-color: #E8F0FE;\n",
              "      border: none;\n",
              "      border-radius: 50%;\n",
              "      cursor: pointer;\n",
              "      display: none;\n",
              "      fill: #1967D2;\n",
              "      height: 32px;\n",
              "      padding: 0 0 0 0;\n",
              "      width: 32px;\n",
              "    }\n",
              "\n",
              "    .colab-df-convert:hover {\n",
              "      background-color: #E2EBFA;\n",
              "      box-shadow: 0px 1px 2px rgba(60, 64, 67, 0.3), 0px 1px 3px 1px rgba(60, 64, 67, 0.15);\n",
              "      fill: #174EA6;\n",
              "    }\n",
              "\n",
              "    [theme=dark] .colab-df-convert {\n",
              "      background-color: #3B4455;\n",
              "      fill: #D2E3FC;\n",
              "    }\n",
              "\n",
              "    [theme=dark] .colab-df-convert:hover {\n",
              "      background-color: #434B5C;\n",
              "      box-shadow: 0px 1px 3px 1px rgba(0, 0, 0, 0.15);\n",
              "      filter: drop-shadow(0px 1px 2px rgba(0, 0, 0, 0.3));\n",
              "      fill: #FFFFFF;\n",
              "    }\n",
              "  </style>\n",
              "\n",
              "      <script>\n",
              "        const buttonEl =\n",
              "          document.querySelector('#df-dac137e8-2132-4417-a85b-fd9cb2273168 button.colab-df-convert');\n",
              "        buttonEl.style.display =\n",
              "          google.colab.kernel.accessAllowed ? 'block' : 'none';\n",
              "\n",
              "        async function convertToInteractive(key) {\n",
              "          const element = document.querySelector('#df-dac137e8-2132-4417-a85b-fd9cb2273168');\n",
              "          const dataTable =\n",
              "            await google.colab.kernel.invokeFunction('convertToInteractive',\n",
              "                                                     [key], {});\n",
              "          if (!dataTable) return;\n",
              "\n",
              "          const docLinkHtml = 'Like what you see? Visit the ' +\n",
              "            '<a target=\"_blank\" href=https://colab.research.google.com/notebooks/data_table.ipynb>data table notebook</a>'\n",
              "            + ' to learn more about interactive tables.';\n",
              "          element.innerHTML = '';\n",
              "          dataTable['output_type'] = 'display_data';\n",
              "          await google.colab.output.renderOutput(dataTable, element);\n",
              "          const docLink = document.createElement('div');\n",
              "          docLink.innerHTML = docLinkHtml;\n",
              "          element.appendChild(docLink);\n",
              "        }\n",
              "      </script>\n",
              "    </div>\n",
              "  </div>\n",
              "  "
            ],
            "text/plain": [
              "    index             City    Lat   Long country iso2      State\n",
              "0       0         Adilabad  19.37  78.30   India   IN  Telangana\n",
              "1       1          Alampur  15.54  78.11   India   IN  Telangana\n",
              "2       2           Armoor  18.48  78.16   India   IN  Telangana\n",
              "3       3         Balkonda  19.05  78.20   India   IN  Telangana\n",
              "4       4     Bhadrachalam  17.40  80.56   India   IN  Telangana\n",
              "5       5          Bhainsa  19.10  77.58   India   IN  Telangana\n",
              "6       6           Bodhan  18.39  77.50   India   IN  Telangana\n",
              "7       7      Devarakonda  16.42  78.58   India   IN  Telangana\n",
              "8       8           Gadwal  16.13  77.48   India   IN  Telangana\n",
              "9       9         Golconda  17.23  78.27   India   IN  Telangana\n",
              "10     10       Hanamkonda  18.10  79.46   India   IN  Telangana\n",
              "11     11        Hyderabad  17.20  78.30   India   IN  Telangana\n",
              "12     12         Jagityal  18.48  79.09   India   IN  Telangana\n",
              "13     13        Kamareddy  18.18  78.22   India   IN  Telangana\n",
              "14     14            Kandi  17.36  78.05   India   IN  Telangana\n",
              "15     15       Karimnagar  18.28  79.06   India   IN  Telangana\n",
              "16     16          Khammam  17.15  80.11   India   IN  Telangana\n",
              "17     17         Kodangal  17.08  77.36   India   IN  Telangana\n",
              "18     18            Kohir  17.35  77.40   India   IN  Telangana\n",
              "19     19        Koilkonda  16.45  77.50   India   IN  Telangana\n",
              "20     20          Koratla  18.43  78.41   India   IN  Telangana\n",
              "21     21            Kosgi  17.00  77.43   India   IN  Telangana\n",
              "22     22       Kothagudem  17.30  80.40   India   IN  Telangana\n",
              "23     23     Mahabubnagar  16.42  77.58   India   IN  Telangana\n",
              "24     24            Medak  18.03  78.18   India   IN  Telangana\n",
              "25     25    Nagar Kurnool  16.30  78.19   India   IN  Telangana\n",
              "26     26         Nalgonda  17.03  79.02   India   IN  Telangana\n",
              "27     27  Nallamala Range  15.00  78.38   India   IN  Telangana\n",
              "28     28       Narayanpet  16.46  77.27   India   IN  Telangana\n",
              "29     29           Nirmal  19.06  78.25   India   IN  Telangana\n",
              "30     30        Nizamabad  18.40  78.10   India   IN  Telangana\n",
              "31     31       Patancheru  17.36  78.20   India   IN  Telangana\n",
              "32     32       Rekhapalle  17.34  81.20   India   IN  Telangana\n",
              "33     33       Sadasivpet  17.40  77.58   India   IN  Telangana\n",
              "34     34     Secunderabad  17.27  78.33   India   IN  Telangana\n",
              "35     35         Siddipet  18.07  78.50   India   IN  Telangana\n",
              "36     36           Tandur  17.17  77.30   India   IN  Telangana\n",
              "37     37       Vemalawada  18.30  78.56   India   IN  Telangana\n",
              "38     38     Venkatapuram  18.17  80.36   India   IN  Telangana\n",
              "39     39         Warangal  17.58  79.40   India   IN  Telangana\n",
              "40     40         Yellandu  17.37  80.23   India   IN  Telangana"
            ]
          },
          "metadata": {},
          "execution_count": 144
        }
      ],
      "source": [
        "df"
      ]
    },
    {
      "cell_type": "code",
      "execution_count": 145,
      "metadata": {
        "id": "aTv6AsH5rX7L"
      },
      "outputs": [],
      "source": [
        "#Getting the important data like lat, long and cities to list\n",
        "lat = df['Lat'].tolist()\n",
        "long = df['Long'].tolist()\n",
        "cities = df['City'].tolist()"
      ]
    },
    {
      "cell_type": "markdown",
      "metadata": {
        "id": "RUvLViZprX7L"
      },
      "source": [
        "Algorithm to check wether we can reach all the points from any starting point."
      ]
    },
    {
      "cell_type": "code",
      "execution_count": 146,
      "metadata": {
        "id": "PLPblSrRrX7M"
      },
      "outputs": [],
      "source": [
        "def connected(matrix):\n",
        "    def bfs(city):\n",
        "        for i,go in enumerate(matrix[city]):\n",
        "            if i not in visited and go==1:\n",
        "                visited.add(i)\n",
        "                bfs(i)\n",
        "    visited = set()\n",
        "    bfs(0)\n",
        "    if len(visited)==len(matrix):\n",
        "        return True\n",
        "    else:\n",
        "        return False     "
      ]
    },
    {
      "cell_type": "code",
      "execution_count": 147,
      "metadata": {
        "id": "VX-euvDFrX7M"
      },
      "outputs": [],
      "source": [
        "#Setting up the connectivity matrix\n",
        "matrix = [[0]*41 for _ in range(41)]"
      ]
    },
    {
      "cell_type": "code",
      "execution_count": 148,
      "metadata": {
        "id": "E11NAPNJrX7M"
      },
      "outputs": [],
      "source": [
        "#Cities are obviously connected to themselves\n",
        "for i in range(41):\n",
        "    for j in range(41):\n",
        "        if i==j:\n",
        "            matrix[i][j] = 1"
      ]
    },
    {
      "cell_type": "markdown",
      "metadata": {
        "id": "ocsFhSO8rX7M"
      },
      "source": [
        "Iterativiely update matrix until we get fully connected graph that means we can reach all the points from any starting point."
      ]
    },
    {
      "cell_type": "code",
      "execution_count": 149,
      "metadata": {
        "id": "9m9NIXnCrX7N"
      },
      "outputs": [],
      "source": [
        "while connected(matrix)==False:\n",
        "    i = random.randint(0,40)\n",
        "    j = random.randint(0,40)\n",
        "    if matrix[i][j] == 0:\n",
        "        matrix[i][j] = 1"
      ]
    },
    {
      "cell_type": "markdown",
      "metadata": {
        "id": "kiFx0HTyrX7N"
      },
      "source": [
        "Counting the number of total connections"
      ]
    },
    {
      "cell_type": "code",
      "execution_count": 150,
      "metadata": {
        "colab": {
          "base_uri": "https://localhost:8080/"
        },
        "id": "lb9lgjKqrX7N",
        "outputId": "aa89b801-fdba-46b4-a445-91dd780d5305"
      },
      "outputs": [
        {
          "output_type": "stream",
          "name": "stdout",
          "text": [
            "We have total connections of:  142\n"
          ]
        }
      ],
      "source": [
        "c = 0\n",
        "for i in range(41):\n",
        "    for j in range(41):\n",
        "        if matrix[i][j] == 1:\n",
        "            c+=1\n",
        "print('We have total connections of: ',c - 41)"
      ]
    },
    {
      "cell_type": "markdown",
      "metadata": {
        "id": "ARKs7KfDrX7N"
      },
      "source": [
        "# Create distance matrix using OSMR API"
      ]
    },
    {
      "cell_type": "code",
      "execution_count": 151,
      "metadata": {
        "id": "QsL3pNO9rX7N"
      },
      "outputs": [],
      "source": [
        "distances = [[0]*41 for _ in range(41)]"
      ]
    },
    {
      "cell_type": "markdown",
      "metadata": {
        "id": "WmVtMCZprX7N"
      },
      "source": [
        "Real distance between the cities is gathered usin the code block."
      ]
    },
    {
      "cell_type": "code",
      "execution_count": 152,
      "metadata": {
        "colab": {
          "base_uri": "https://localhost:8080/"
        },
        "id": "VZvnMQUQrX7N",
        "outputId": "d3f517de-706c-4626-c7a6-c9d832db9563"
      },
      "outputs": [
        {
          "output_type": "stream",
          "name": "stdout",
          "text": [
            "0\n",
            "10\n",
            "20\n",
            "30\n",
            "40\n"
          ]
        }
      ],
      "source": [
        "import requests\n",
        "import json\n",
        "# call the OSMR API\n",
        "for i in range(41):\n",
        "    for j in range(41):\n",
        "        if matrix[i][j] == 1:\n",
        "            try:\n",
        "                r = requests.get(f\"http://router.project-osrm.org/route/v1/car/{long[i]},{lat[i]};{long[j]},{lat[j]}?overview=false\"\"\")\n",
        "                # then you load the response using the json libray\n",
        "                # by default you get only one alternative \n",
        "                # so you access 0-th element of the `routes`\n",
        "                routes = json.loads(r.content)\n",
        "                route_1 = routes.get(\"routes\")[0]\n",
        "                distances[i][j] = route_1['distance']/1000\n",
        "            except:\n",
        "                distances[i][j] = 5000\n",
        "    if i%10 == 0:\n",
        "        print(i)"
      ]
    },
    {
      "cell_type": "code",
      "execution_count": 153,
      "metadata": {
        "id": "LP1FAouWrX7O"
      },
      "outputs": [],
      "source": [
        "# Prepare ajacency list based on the connections eastablished earlier\n",
        "adjacency_list = {}\n",
        "for i,city in enumerate(cities):\n",
        "    adjacency_list[city] = []\n",
        "    for j in range(len(cities)):\n",
        "        if matrix[i][j] == 1:\n",
        "            adjacency_list[city].append((cities[j],distances[i][j]))"
      ]
    },
    {
      "cell_type": "markdown",
      "metadata": {
        "id": "lo_KIzwlrX7O"
      },
      "source": [
        "# Make a heuristic matrix. "
      ]
    },
    {
      "cell_type": "markdown",
      "metadata": {
        "id": "Kj86RQbwrX7O"
      },
      "source": [
        "We consider heuristic as direct arieal distance between any two cities."
      ]
    },
    {
      "cell_type": "code",
      "execution_count": 176,
      "metadata": {
        "id": "fcyYYpOgrX7O"
      },
      "outputs": [],
      "source": [
        "# Python 3 program to calculate Distance Between Two Points on Earth\n",
        "from math import radians, cos, sin, asin, sqrt\n",
        "def distance(lat1, lat2, lon1, lon2):\n",
        "     \n",
        "    # The math module contains a function named\n",
        "    # radians which converts from degrees to radians.\n",
        "    lon1 = radians(lon1)\n",
        "    lon2 = radians(lon2)\n",
        "    lat1 = radians(lat1)\n",
        "    lat2 = radians(lat2)\n",
        "      \n",
        "    # Haversine formula\n",
        "    dlon = lon2 - lon1\n",
        "    dlat = lat2 - lat1\n",
        "    a = sin(dlat / 2)**2 + cos(lat1) * cos(lat2) * sin(dlon / 2)**2\n",
        " \n",
        "    c = 2 * asin(sqrt(a))\n",
        "    \n",
        "    # Radius of earth in kilometers. Use 3956 for miles\n",
        "    r = 6371\n",
        "    \n",
        "    # calculate the result\n",
        "    return(c * r)"
      ]
    },
    {
      "cell_type": "raw",
      "metadata": {
        "id": "_J4PqT7JrX7O"
      },
      "source": [
        "distance(lat[i], lat[j], long[i], long[j])"
      ]
    },
    {
      "cell_type": "markdown",
      "metadata": {
        "id": "9rBaTdnErX7O"
      },
      "source": [
        "# A* Algorithm to find distance between start and goal cities"
      ]
    },
    {
      "cell_type": "code",
      "execution_count": 155,
      "metadata": {
        "id": "Lg9XZur9rX7O"
      },
      "outputs": [],
      "source": [
        "from collections import deque\n",
        " \n",
        "class Graph:\n",
        "    def __init__(self, adjac_lis, lat, long, cities):\n",
        "        self.adjac_lis = adjac_lis\n",
        "        self.lat = lat\n",
        "        self.long = long\n",
        "        self.cities = cities\n",
        " \n",
        "    def get_neighbors(self, v):\n",
        "        return self.adjac_lis[v]\n",
        " \n",
        "    # This is heuristic function which is having equal values for all nodes\n",
        "    def h(self, city,stop):\n",
        "        i = self.cities.index(city)\n",
        "        j = self.cities.index(stop)\n",
        "        d=distance(self.lat[i], self.lat[j], self.long[i], self.long[j])\n",
        "        return d\n",
        " \n",
        "    def a_star_algorithm(self, start, stop):\n",
        "        # In this open_lst is a list of nodes which have been visited, but who's \n",
        "        # neighbours haven't all been always inspected, It starts off with the start \n",
        "  #node\n",
        "        # And closed_lst is a list of nodes which have been visited\n",
        "        # and who's neighbors have been always inspected\n",
        "        open_lst = set([start])\n",
        "        closed_lst = set([])\n",
        " \n",
        "        # poo has present distances from start to all other nodes\n",
        "        # the default value is +infinity\n",
        "        poo = {}\n",
        "        poo[start] = 0\n",
        " \n",
        "        # par contains an adjac mapping of all nodes\n",
        "        par = {}\n",
        "        par[start] = start\n",
        " \n",
        "        while len(open_lst) > 0:\n",
        "            n = None\n",
        " \n",
        "            # it will find a node with the lowest value of f() -\n",
        "            for v in open_lst:\n",
        "                if n == None or poo[v] + self.h(v,stop) < poo[n] + self.h(n,stop):\n",
        "                    n = v;\n",
        " \n",
        "            if n == None:\n",
        "                print('Path does not exist!')\n",
        "                return None\n",
        " \n",
        "            # if the current node is the stop\n",
        "            # then we start again from start\n",
        "            if n == stop:\n",
        "                reconst_path = []\n",
        " \n",
        "                while par[n] != n:\n",
        "                    reconst_path.append(n)\n",
        "                    n = par[n]\n",
        " \n",
        "                reconst_path.append(start)\n",
        " \n",
        "                reconst_path.reverse()\n",
        " \n",
        "                #print('Path found: {}'.format(reconst_path))\n",
        "                return reconst_path, poo[stop]\n",
        " \n",
        "            # for all the neighbors of the current node do\n",
        "            for (m, weight) in self.get_neighbors(n):\n",
        "              # if the current node is not presentin both open_lst and closed_lst\n",
        "                # add it to open_lst and note n as it's par\n",
        "                if m not in open_lst and m not in closed_lst:\n",
        "                    open_lst.add(m)\n",
        "                    par[m] = n\n",
        "                    poo[m] = poo[n] + weight\n",
        " \n",
        "                # otherwise, check if it's quicker to first visit n, then m\n",
        "                # and if it is, update par data and poo data\n",
        "                # and if the node was in the closed_lst, move it to open_lst\n",
        "                else:\n",
        "                    if poo[m] > poo[n] + weight:\n",
        "                        poo[m] = poo[n] + weight\n",
        "                        par[m] = n\n",
        " \n",
        "                        if m in closed_lst:\n",
        "                            closed_lst.remove(m)\n",
        "                            open_lst.add(m)\n",
        " \n",
        "            # remove n from the open_lst, and add it to closed_lst\n",
        "            # because all of his neighbors were inspected\n",
        "            open_lst.remove(n)\n",
        "            closed_lst.add(n)\n",
        " \n",
        "        #print('Path does not exist!')\n",
        "        return [5000]"
      ]
    },
    {
      "cell_type": "markdown",
      "metadata": {
        "id": "G5YZJ5BRrX7P"
      },
      "source": [
        "Testing the algoithm"
      ]
    },
    {
      "cell_type": "code",
      "execution_count": 156,
      "metadata": {
        "id": "2nzsm3LXrX7P"
      },
      "outputs": [],
      "source": [
        "graph1 = Graph(adjacency_list,lat,long,cities)\n",
        "path = graph1.a_star_algorithm('Hyderabad','Warangal')"
      ]
    },
    {
      "cell_type": "code",
      "execution_count": 157,
      "metadata": {
        "colab": {
          "base_uri": "https://localhost:8080/"
        },
        "id": "2Bf8lHu2rX7P",
        "outputId": "fa371fd4-f95a-45c1-c92d-9b38b6f53ae4"
      },
      "outputs": [
        {
          "output_type": "execute_result",
          "data": {
            "text/plain": [
              "(['Hyderabad', 'Narayanpet', 'Sadasivpet', 'Kodangal', 'Yellandu', 'Warangal'],\n",
              " 883.4689)"
            ]
          },
          "metadata": {},
          "execution_count": 157
        }
      ],
      "source": [
        "# Example output\n",
        "path"
      ]
    },
    {
      "cell_type": "markdown",
      "metadata": {
        "id": "AmDpsTA3rX7Q"
      },
      "source": [
        "# Final Algorithm"
      ]
    },
    {
      "cell_type": "code",
      "execution_count": 158,
      "metadata": {
        "id": "VQ6s0lxkrX7Q"
      },
      "outputs": [],
      "source": [
        "df_cost =  pd.read_csv('cityprices.csv')"
      ]
    },
    {
      "cell_type": "code",
      "execution_count": 159,
      "metadata": {
        "colab": {
          "base_uri": "https://localhost:8080/"
        },
        "id": "ER-eRQ5HrX7Q",
        "outputId": "fac269a6-58d3-4be9-cdc8-74a88ec4a1f0"
      },
      "outputs": [
        {
          "output_type": "execute_result",
          "data": {
            "text/plain": [
              "41"
            ]
          },
          "metadata": {},
          "execution_count": 159
        }
      ],
      "source": [
        "df_cost['City'].nunique()"
      ]
    },
    {
      "cell_type": "markdown",
      "metadata": {
        "id": "7cJGjuQUrX7Q"
      },
      "source": [
        "Part Tree"
      ]
    },
    {
      "cell_type": "code",
      "execution_count": 159,
      "metadata": {
        "id": "bXeLd1fYrX7Q"
      },
      "outputs": [],
      "source": [
        ""
      ]
    },
    {
      "cell_type": "code",
      "execution_count": 160,
      "metadata": {
        "id": "TGOVK2GnrX7Q"
      },
      "outputs": [],
      "source": [
        "#this part_tree and use dictinary represents the tree stuture of the dependencies for each part in the manufacturing process"
      ]
    },
    {
      "cell_type": "code",
      "execution_count": 161,
      "metadata": {
        "id": "vqr4Rw3krX7R"
      },
      "outputs": [],
      "source": [
        "part_tree = {'Main assembly':['Fuselage assembly','Wing assembly','Engine'],'Fuselage assembly':['Fuselage Nose','Fuselage Mid','Fuselage rare'],'Fuselage Nose':['Fuselage raw'],'Fuselage Mid':['Fuselage raw'],'Fuselage rare':['Frame','Tail Assembly'],'Frame':['Fuselage raw'],'Tail Assembly':['Tail main','Tail CS','actuators'],'Tail main':['Tail raw'],'Tail CS':['Tail raw'],'actuators':['Tail raw'],'Tail raw':[],'Wing assembly':['Wing main','Wing CS'],'Wing main':['Front Raw'],'Wing CS':['Front Raw'],'Front Raw':[],'Engine':['Engine Raw'],'Engine Raw':[],'Fuselage raw':[]}"
      ]
    },
    {
      "cell_type": "code",
      "execution_count": 162,
      "metadata": {
        "id": "0f51giiHrX7R"
      },
      "outputs": [],
      "source": [
        "use = {'Main assembly':['Fuselage assembly','Wing assembly','Engine'],'Fuselage assembly':['Fuselage Nose','Fuselage Mid','Fuselage rare'],'Fuselage Nose':['Fuselage raw'],'Fuselage Mid':['Fuselage raw'],'Fuselage rare':['Frame','Tail Assembly'],'Frame':['Fuselage raw'],'Tail Assembly':['Tail main','Tail CS','actuators'],'Tail main':['Tail raw'],'Tail CS':['Tail raw'],'actuators':['Tail raw'],'Tail raw':[],'Wing assembly':['Wing main','Wing CS'],'Wing main':['Front Raw'],'Wing CS':['Front Raw'],'Front Raw':[],'Engine':['Engine Raw'],'Engine Raw':[],'Fuselage raw':[]}"
      ]
    },
    {
      "cell_type": "markdown",
      "metadata": {
        "id": "f632o_K5rX7R"
      },
      "source": [
        "The objective in designing the final algorithm is to identify the minimum final cost for the total assembly at each and every main assembly centre. In our problem we assumed that the cost of production arises only due to these three factors i.e. 1) Part cost, 2) Assembly service charges and 3) Transport expenses to shift the parts from one factory to the other. We have considered each and every node in the manufacturing tree where production or assembly happens. Adding every city to the particular node where a specific function in the node happens in that cities and this will form a new tree called cost tree. This cost tree is updated with the best cost for every city in that node to get that functionality ready as the algorithm progresses. Since aircraft can only be formed when every part in the tree is considered. This constraints our algorithm to perform a search for every node in the manufacturing tree. We made a dictionary to store costs in that city. We obtained the cost and part manufactured in that city from cityprice dataset which we made available in the GitHub repo. Firstly we added to cost to cities which don’t have to depend on other cities that means parts which are manufactured in that cities have no subparts. If the city is dependent on some other city then the cost for that city is initialized to inf and will be updated later. This process is represented in algorithm 1.\n"
      ]
    },
    {
      "cell_type": "code",
      "execution_count": 163,
      "metadata": {
        "id": "0ZsFb7K9rX7R"
      },
      "outputs": [],
      "source": [
        "cost_part_city = {}\n",
        "basic_part_city = {}\n",
        "best_dependencies = {}"
      ]
    },
    {
      "cell_type": "code",
      "execution_count": 164,
      "metadata": {
        "id": "_dfFbmfGrX7R"
      },
      "outputs": [],
      "source": [
        "for key in part_tree:\n",
        "    d = {}\n",
        "    for city in df_cost[df_cost[\"Part\"] == key]['City'].tolist():\n",
        "        d[city] = float('inf')\n",
        "    for city in d:\n",
        "        basic_part_city[city] = df_cost[df_cost['City'] == city]['Price'].tolist()[0]\n",
        "    if part_tree[key]==[]:\n",
        "        for city in d:\n",
        "            d[city] = df_cost[df_cost['City'] == city]['Price'].tolist()[0]\n",
        "    cost_part_city[key] = d"
      ]
    },
    {
      "cell_type": "markdown",
      "metadata": {
        "id": "vDluFg9grX7S"
      },
      "source": [
        "Cost for the cities is further updated with algorithm 2. If the dependencies are already manufactured for any node. Then each and every city in that node is considered and the best cost for that city has to be calculated. The best cost to complete the part manufacturing in that city will be obtained by choosing the best dependency (the dependent city where costs are low) for that part is considered. Costs will also be varying with the distance between the current city and the dependent city and also the basic cost will be added to the best cost for that city. This process goes on iteratively until all the parts are manufactured. This process is represented in algorithm 2."
      ]
    },
    {
      "cell_type": "code",
      "execution_count": 165,
      "metadata": {
        "colab": {
          "base_uri": "https://localhost:8080/"
        },
        "id": "BJz0D462rX7S",
        "outputId": "5cb51fbd-9d75-4e0e-e84c-55b852cab796"
      },
      "outputs": [
        {
          "output_type": "stream",
          "name": "stdout",
          "text": [
            "0\n",
            "4\n",
            "13\n",
            "15\n",
            "16\n",
            "17\n"
          ]
        }
      ],
      "source": [
        "done = set()\n",
        "while(len(done)<18):\n",
        "    cont = '1'\n",
        "    if cont=='1':\n",
        "        print(len(done))\n",
        "        for part in use:\n",
        "            #print(part)\n",
        "            if use[part]!=[] and len(set(use[part])-set(done))==0:\n",
        "                for city in cost_part_city[part]:\n",
        "                    cost = 0\n",
        "                    bdc = []\n",
        "                    for depend in use[part]:\n",
        "                        c = float('inf')\n",
        "                        bc='a'\n",
        "                        for citydep in cost_part_city[depend]:\n",
        "                            try:\n",
        "                                if cost_part_city[depend][citydep]+100*graph1.a_star_algorithm(city,citydep)[-1] + basic_part_city[city] < c:\n",
        "                                    bc = citydep\n",
        "                                    c = cost_part_city[depend][citydep]+100*graph1.a_star_algorithm(city,citydep)[-1]+ basic_part_city[city]\n",
        "                            except:\n",
        "                                if cost_part_city[depend][citydep]+100*graph1.a_star_algorithm(citydep,city)[-1] + basic_part_city[city]< c:\n",
        "                                    bc = citydep\n",
        "                                    c = cost_part_city[depend][citydep]+100*graph1.a_star_algorithm(citydep,city)[-1]+ basic_part_city[city]\n",
        "                        bdc.append(bc)\n",
        "                        cost+=c\n",
        "                    best_dependencies[city] = bdc.copy()\n",
        "                    cost_part_city[part][city] = cost\n",
        "                done.add(part)\n",
        "            if use[part]==[]:\n",
        "                done.add(part)\n",
        "    else:\n",
        "        break"
      ]
    },
    {
      "cell_type": "markdown",
      "metadata": {
        "id": "wsbUc7eDrX7S"
      },
      "source": [
        "Final cost after manufacturing of aircraft at Main Assembly plants."
      ]
    },
    {
      "cell_type": "code",
      "execution_count": 166,
      "metadata": {
        "colab": {
          "base_uri": "https://localhost:8080/"
        },
        "id": "lJwpwacvrX7S",
        "outputId": "24c250b8-d2f5-4f7f-fdb8-4420b74cd8d9"
      },
      "outputs": [
        {
          "output_type": "execute_result",
          "data": {
            "text/plain": [
              "{'Adilabad': 6480736.449999999,\n",
              " 'Hyderabad': 6320843.58,\n",
              " 'Warangal': 6313823.78}"
            ]
          },
          "metadata": {},
          "execution_count": 166
        }
      ],
      "source": [
        "cost_part_city['Main assembly']"
      ]
    },
    {
      "cell_type": "code",
      "execution_count": 167,
      "metadata": {
        "id": "yEIkyBBArX7S"
      },
      "outputs": [],
      "source": [
        "import matplotlib.pyplot as plt"
      ]
    },
    {
      "cell_type": "code",
      "execution_count": 168,
      "metadata": {
        "colab": {
          "base_uri": "https://localhost:8080/",
          "height": 258
        },
        "id": "RIJP7IRNrX7S",
        "outputId": "60adcbc9-4d9f-40f3-fa7f-27793e795e6f"
      },
      "outputs": [
        {
          "output_type": "execute_result",
          "data": {
            "text/plain": [
              "Text(0.5, 1.0, 'Best cost for manufacturing the aircraft.')"
            ]
          },
          "metadata": {},
          "execution_count": 168
        },
        {
          "output_type": "display_data",
          "data": {
            "image/png": "[encoded data removed]",
            "text/plain": [
              "<Figure size 360x216 with 1 Axes>"
            ]
          },
          "metadata": {
            "needs_background": "light"
          }
        }
      ],
      "source": [
        "plt.figure(figsize=(5,3))\n",
        "plt.bar(*zip(*cost_part_city['Main assembly'].items()))\n",
        "plt.xlabel('Main assembly plant.')\n",
        "plt.ylabel('Total best possible cost.')\n",
        "plt.title('Best cost for manufacturing the aircraft.')"
      ]
    },
    {
      "cell_type": "markdown",
      "metadata": {
        "id": "tiUSkp67rX7T"
      },
      "source": [
        "Final output"
      ]
    },
    {
      "cell_type": "code",
      "execution_count": 169,
      "metadata": {
        "colab": {
          "base_uri": "https://localhost:8080/"
        },
        "id": "6xdj6dKIrX7T",
        "outputId": "a2924b5d-cb95-4d68-ad8e-c525e8b19bd2"
      },
      "outputs": [
        {
          "output_type": "stream",
          "name": "stdout",
          "text": [
            "Finally we can say that best profits can be achieved by completing the manufacturing in the Warangal city.\n"
          ]
        }
      ],
      "source": [
        "keys = list(cost_part_city['Main assembly'].keys())\n",
        "values = list(cost_part_city['Main assembly'].values())\n",
        "best_city = keys[values.index(min(values))]\n",
        "b_cost = cost_part_city['Main assembly'][best_city]\n",
        "print('Finally we can say that best profits can be achieved by completing the manufacturing in the',keys[values.index(min(values))],'city.')"
      ]
    },
    {
      "cell_type": "markdown",
      "metadata": {
        "id": "U07XkpuHrX7T"
      },
      "source": [
        "Obtaining total cities for best manufacturing criteria"
      ]
    },
    {
      "cell_type": "code",
      "execution_count": 170,
      "metadata": {
        "id": "APTQ6vovrX7T"
      },
      "outputs": [],
      "source": [
        "path = set()\n",
        "curr = best_city\n",
        "def dfs(city):\n",
        "    path.add(city)\n",
        "    if city in best_dependencies:\n",
        "        golist = best_dependencies[city]\n",
        "        for go in golist:\n",
        "            path.add(go)\n",
        "            dfs(go)\n",
        "dfs(curr)"
      ]
    },
    {
      "cell_type": "code",
      "execution_count": 171,
      "metadata": {
        "id": "7gEDC5orrX7T"
      },
      "outputs": [],
      "source": [
        "df2 = pd.DataFrame()\n",
        "df2['City'] = list(path)"
      ]
    },
    {
      "cell_type": "code",
      "execution_count": 172,
      "metadata": {
        "id": "mzLEsru0rX7T"
      },
      "outputs": [],
      "source": [
        "df_final = pd.merge(df_cost, df2, on=\"City\")"
      ]
    },
    {
      "cell_type": "markdown",
      "metadata": {
        "id": "lTtkHUE7rX7U"
      },
      "source": [
        "Table which shows best cities which are considered along with the part price"
      ]
    },
    {
      "cell_type": "code",
      "execution_count": 173,
      "metadata": {
        "colab": {
          "base_uri": "https://localhost:8080/",
          "height": 676
        },
        "id": "x533vcKzrX7U",
        "outputId": "a3d48ff0-3faf-4f80-fe47-8fbba8998226"
      },
      "outputs": [
        {
          "output_type": "execute_result",
          "data": {
            "text/html": [
              "\n",
              "  <div id=\"df-3a0f0311-9bd5-42a4-8052-ce75b5911c49\">\n",
              "    <div class=\"colab-df-container\">\n",
              "      <div>\n",
              "<style scoped>\n",
              "    .dataframe tbody tr th:only-of-type {\n",
              "        vertical-align: middle;\n",
              "    }\n",
              "\n",
              "    .dataframe tbody tr th {\n",
              "        vertical-align: top;\n",
              "    }\n",
              "\n",
              "    .dataframe thead th {\n",
              "        text-align: right;\n",
              "    }\n",
              "</style>\n",
              "<table border=\"1\" class=\"dataframe\">\n",
              "  <thead>\n",
              "    <tr style=\"text-align: right;\">\n",
              "      <th></th>\n",
              "      <th>City</th>\n",
              "      <th>Part</th>\n",
              "      <th>Price</th>\n",
              "      <th>Quality</th>\n",
              "    </tr>\n",
              "  </thead>\n",
              "  <tbody>\n",
              "    <tr>\n",
              "      <th>0</th>\n",
              "      <td>Warangal</td>\n",
              "      <td>Main assembly</td>\n",
              "      <td>49844</td>\n",
              "      <td>83</td>\n",
              "    </tr>\n",
              "    <tr>\n",
              "      <th>1</th>\n",
              "      <td>Armoor</td>\n",
              "      <td>Fuselage assembly</td>\n",
              "      <td>33620</td>\n",
              "      <td>91</td>\n",
              "    </tr>\n",
              "    <tr>\n",
              "      <th>2</th>\n",
              "      <td>Bhainsa</td>\n",
              "      <td>Wing assembly</td>\n",
              "      <td>5108</td>\n",
              "      <td>76</td>\n",
              "    </tr>\n",
              "    <tr>\n",
              "      <th>3</th>\n",
              "      <td>Gadwal</td>\n",
              "      <td>Engine</td>\n",
              "      <td>787947</td>\n",
              "      <td>72</td>\n",
              "    </tr>\n",
              "    <tr>\n",
              "      <th>4</th>\n",
              "      <td>Jagityal</td>\n",
              "      <td>Fuselage Nose</td>\n",
              "      <td>441179</td>\n",
              "      <td>76</td>\n",
              "    </tr>\n",
              "    <tr>\n",
              "      <th>5</th>\n",
              "      <td>Kandi</td>\n",
              "      <td>Fuselage Mid</td>\n",
              "      <td>757274</td>\n",
              "      <td>95</td>\n",
              "    </tr>\n",
              "    <tr>\n",
              "      <th>6</th>\n",
              "      <td>Khammam</td>\n",
              "      <td>Fuselage rare</td>\n",
              "      <td>391357</td>\n",
              "      <td>67</td>\n",
              "    </tr>\n",
              "    <tr>\n",
              "      <th>7</th>\n",
              "      <td>Kohir</td>\n",
              "      <td>Frame</td>\n",
              "      <td>124731</td>\n",
              "      <td>67</td>\n",
              "    </tr>\n",
              "    <tr>\n",
              "      <th>8</th>\n",
              "      <td>Koratla</td>\n",
              "      <td>Tail Assembly</td>\n",
              "      <td>5108</td>\n",
              "      <td>92</td>\n",
              "    </tr>\n",
              "    <tr>\n",
              "      <th>9</th>\n",
              "      <td>Mahabubnagar</td>\n",
              "      <td>Tail main</td>\n",
              "      <td>101728</td>\n",
              "      <td>98</td>\n",
              "    </tr>\n",
              "    <tr>\n",
              "      <th>10</th>\n",
              "      <td>Medak</td>\n",
              "      <td>Tail CS</td>\n",
              "      <td>75290</td>\n",
              "      <td>66</td>\n",
              "    </tr>\n",
              "    <tr>\n",
              "      <th>11</th>\n",
              "      <td>Nalgonda</td>\n",
              "      <td>actuators</td>\n",
              "      <td>93597</td>\n",
              "      <td>78</td>\n",
              "    </tr>\n",
              "    <tr>\n",
              "      <th>12</th>\n",
              "      <td>Nirmal</td>\n",
              "      <td>Wing main</td>\n",
              "      <td>207601</td>\n",
              "      <td>90</td>\n",
              "    </tr>\n",
              "    <tr>\n",
              "      <th>13</th>\n",
              "      <td>Patancheru</td>\n",
              "      <td>Wing CS</td>\n",
              "      <td>79794</td>\n",
              "      <td>67</td>\n",
              "    </tr>\n",
              "    <tr>\n",
              "      <th>14</th>\n",
              "      <td>Sadasivpet</td>\n",
              "      <td>Fuselage raw</td>\n",
              "      <td>258184</td>\n",
              "      <td>67</td>\n",
              "    </tr>\n",
              "    <tr>\n",
              "      <th>15</th>\n",
              "      <td>Secunderabad</td>\n",
              "      <td>Tail raw</td>\n",
              "      <td>139652</td>\n",
              "      <td>63</td>\n",
              "    </tr>\n",
              "    <tr>\n",
              "      <th>16</th>\n",
              "      <td>Siddipet</td>\n",
              "      <td>Tail raw</td>\n",
              "      <td>125394</td>\n",
              "      <td>87</td>\n",
              "    </tr>\n",
              "    <tr>\n",
              "      <th>17</th>\n",
              "      <td>Tandur</td>\n",
              "      <td>Front Raw</td>\n",
              "      <td>75892</td>\n",
              "      <td>66</td>\n",
              "    </tr>\n",
              "    <tr>\n",
              "      <th>18</th>\n",
              "      <td>Vemalawada</td>\n",
              "      <td>Front Raw</td>\n",
              "      <td>79086</td>\n",
              "      <td>93</td>\n",
              "    </tr>\n",
              "    <tr>\n",
              "      <th>19</th>\n",
              "      <td>Venkatapuram</td>\n",
              "      <td>Engine Raw</td>\n",
              "      <td>301093</td>\n",
              "      <td>87</td>\n",
              "    </tr>\n",
              "  </tbody>\n",
              "</table>\n",
              "</div>\n",
              "      <button class=\"colab-df-convert\" onclick=\"convertToInteractive('df-3a0f0311-9bd5-42a4-8052-ce75b5911c49')\"\n",
              "              title=\"Convert this dataframe to an interactive table.\"\n",
              "              style=\"display:none;\">\n",
              "        \n",
              "  <svg xmlns=\"http://www.w3.org/2000/svg\" height=\"24px\"viewBox=\"0 0 24 24\"\n",
              "       width=\"24px\">\n",
              "    <path d=\"M0 0h24v24H0V0z\" fill=\"none\"/>\n",
              "    <path d=\"M18.56 5.44l.94 2.06.94-2.06 2.06-.94-2.06-.94-.94-2.06-.94 2.06-2.06.94zm-11 1L8.5 8.5l.94-2.06 2.06-.94-2.06-.94L8.5 2.5l-.94 2.06-2.06.94zm10 10l.94 2.06.94-2.06 2.06-.94-2.06-.94-.94-2.06-.94 2.06-2.06.94z\"/><path d=\"M17.41 7.96l-1.37-1.37c-.4-.4-.92-.59-1.43-.59-.52 0-1.04.2-1.43.59L10.3 9.45l-7.72 7.72c-.78.78-.78 2.05 0 2.83L4 21.41c.39.39.9.59 1.41.59.51 0 1.02-.2 1.41-.59l7.78-7.78 2.81-2.81c.8-.78.8-2.07 0-2.86zM5.41 20L4 18.59l7.72-7.72 1.47 1.35L5.41 20z\"/>\n",
              "  </svg>\n",
              "      </button>\n",
              "      \n",
              "  <style>\n",
              "    .colab-df-container {\n",
              "      display:flex;\n",
              "      flex-wrap:wrap;\n",
              "      gap: 12px;\n",
              "    }\n",
              "\n",
              "    .colab-df-convert {\n",
              "      background-color: #E8F0FE;\n",
              "      border: none;\n",
              "      border-radius: 50%;\n",
              "      cursor: pointer;\n",
              "      display: none;\n",
              "      fill: #1967D2;\n",
              "      height: 32px;\n",
              "      padding: 0 0 0 0;\n",
              "      width: 32px;\n",
              "    }\n",
              "\n",
              "    .colab-df-convert:hover {\n",
              "      background-color: #E2EBFA;\n",
              "      box-shadow: 0px 1px 2px rgba(60, 64, 67, 0.3), 0px 1px 3px 1px rgba(60, 64, 67, 0.15);\n",
              "      fill: #174EA6;\n",
              "    }\n",
              "\n",
              "    [theme=dark] .colab-df-convert {\n",
              "      background-color: #3B4455;\n",
              "      fill: #D2E3FC;\n",
              "    }\n",
              "\n",
              "    [theme=dark] .colab-df-convert:hover {\n",
              "      background-color: #434B5C;\n",
              "      box-shadow: 0px 1px 3px 1px rgba(0, 0, 0, 0.15);\n",
              "      filter: drop-shadow(0px 1px 2px rgba(0, 0, 0, 0.3));\n",
              "      fill: #FFFFFF;\n",
              "    }\n",
              "  </style>\n",
              "\n",
              "      <script>\n",
              "        const buttonEl =\n",
              "          document.querySelector('#df-3a0f0311-9bd5-42a4-8052-ce75b5911c49 button.colab-df-convert');\n",
              "        buttonEl.style.display =\n",
              "          google.colab.kernel.accessAllowed ? 'block' : 'none';\n",
              "\n",
              "        async function convertToInteractive(key) {\n",
              "          const element = document.querySelector('#df-3a0f0311-9bd5-42a4-8052-ce75b5911c49');\n",
              "          const dataTable =\n",
              "            await google.colab.kernel.invokeFunction('convertToInteractive',\n",
              "                                                     [key], {});\n",
              "          if (!dataTable) return;\n",
              "\n",
              "          const docLinkHtml = 'Like what you see? Visit the ' +\n",
              "            '<a target=\"_blank\" href=https://colab.research.google.com/notebooks/data_table.ipynb>data table notebook</a>'\n",
              "            + ' to learn more about interactive tables.';\n",
              "          element.innerHTML = '';\n",
              "          dataTable['output_type'] = 'display_data';\n",
              "          await google.colab.output.renderOutput(dataTable, element);\n",
              "          const docLink = document.createElement('div');\n",
              "          docLink.innerHTML = docLinkHtml;\n",
              "          element.appendChild(docLink);\n",
              "        }\n",
              "      </script>\n",
              "    </div>\n",
              "  </div>\n",
              "  "
            ],
            "text/plain": [
              "            City               Part   Price  Quality\n",
              "0       Warangal      Main assembly   49844       83\n",
              "1         Armoor  Fuselage assembly   33620       91\n",
              "2        Bhainsa      Wing assembly    5108       76\n",
              "3         Gadwal             Engine  787947       72\n",
              "4       Jagityal      Fuselage Nose  441179       76\n",
              "5          Kandi       Fuselage Mid  757274       95\n",
              "6        Khammam      Fuselage rare  391357       67\n",
              "7          Kohir              Frame  124731       67\n",
              "8        Koratla      Tail Assembly    5108       92\n",
              "9   Mahabubnagar          Tail main  101728       98\n",
              "10         Medak            Tail CS   75290       66\n",
              "11      Nalgonda          actuators   93597       78\n",
              "12        Nirmal          Wing main  207601       90\n",
              "13    Patancheru            Wing CS   79794       67\n",
              "14    Sadasivpet       Fuselage raw  258184       67\n",
              "15  Secunderabad           Tail raw  139652       63\n",
              "16      Siddipet           Tail raw  125394       87\n",
              "17        Tandur          Front Raw   75892       66\n",
              "18    Vemalawada          Front Raw   79086       93\n",
              "19  Venkatapuram         Engine Raw  301093       87"
            ]
          },
          "metadata": {},
          "execution_count": 173
        }
      ],
      "source": [
        "df_final"
      ]
    }
  ],
  "metadata": {
    "kernelspec": {
      "display_name": "Python 3",
      "language": "python",
      "name": "python3"
    },
    "language_info": {
      "codemirror_mode": {
        "name": "ipython",
        "version": 3
      },
      "file_extension": ".py",
      "mimetype": "text/x-python",
      "name": "python",
      "nbconvert_exporter": "python",
      "pygments_lexer": "ipython3",
      "version": "3.8.5"
    },
    "colab": {
      "name": "Final Algorithm Aviation Warehouse.ipynb",
      "provenance": [],
      "include_colab_link": true
    }
  },
  "nbformat": 4,
  "nbformat_minor": 0
}