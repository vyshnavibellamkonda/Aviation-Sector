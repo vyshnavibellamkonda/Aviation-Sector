{
 "cells": [
  {
   "cell_type": "code",
   "execution_count": 2,
   "metadata": {},
   "outputs": [
    {
     "name": "stdout",
     "output_type": "stream",
     "text": [
      "C:\\Users\\venka\\OneDrive\\Desktop\\Project AI\n"
     ]
    }
   ],
   "source": [
    "cd C:\\Users\\venka\\OneDrive\\Desktop\\Project AI"
   ]
  },
  {
   "cell_type": "markdown",
   "metadata": {},
   "source": [
    "# Import the Libraries"
   ]
  },
  {
   "cell_type": "code",
   "execution_count": 16,
   "metadata": {},
   "outputs": [],
   "source": [
    "import pandas as pd\n",
    "import numpy as np\n",
    "import random"
   ]
  },
  {
   "cell_type": "markdown",
   "metadata": {},
   "source": [
    "Import the data"
   ]
  },
  {
   "cell_type": "code",
   "execution_count": 60,
   "metadata": {},
   "outputs": [],
   "source": [
    "df = pd.read_csv('Indian Cities Database.csv')"
   ]
  },
  {
   "cell_type": "code",
   "execution_count": 8,
   "metadata": {},
   "outputs": [
    {
     "data": {
      "text/html": [
       "<div>\n",
       "<style scoped>\n",
       "    .dataframe tbody tr th:only-of-type {\n",
       "        vertical-align: middle;\n",
       "    }\n",
       "\n",
       "    .dataframe tbody tr th {\n",
       "        vertical-align: top;\n",
       "    }\n",
       "\n",
       "    .dataframe thead th {\n",
       "        text-align: right;\n",
       "    }\n",
       "</style>\n",
       "<table border=\"1\" class=\"dataframe\">\n",
       "  <thead>\n",
       "    <tr style=\"text-align: right;\">\n",
       "      <th></th>\n",
       "      <th>City</th>\n",
       "      <th>Lat</th>\n",
       "      <th>Long</th>\n",
       "      <th>country</th>\n",
       "      <th>iso2</th>\n",
       "      <th>State</th>\n",
       "    </tr>\n",
       "  </thead>\n",
       "  <tbody>\n",
       "    <tr>\n",
       "      <th>0</th>\n",
       "      <td>Abohar</td>\n",
       "      <td>30.144533</td>\n",
       "      <td>74.195520</td>\n",
       "      <td>India</td>\n",
       "      <td>IN</td>\n",
       "      <td>Punjab</td>\n",
       "    </tr>\n",
       "    <tr>\n",
       "      <th>1</th>\n",
       "      <td>Adilabad</td>\n",
       "      <td>19.400000</td>\n",
       "      <td>78.310000</td>\n",
       "      <td>India</td>\n",
       "      <td>IN</td>\n",
       "      <td>Telangana</td>\n",
       "    </tr>\n",
       "    <tr>\n",
       "      <th>2</th>\n",
       "      <td>Agartala</td>\n",
       "      <td>23.836049</td>\n",
       "      <td>91.279386</td>\n",
       "      <td>India</td>\n",
       "      <td>IN</td>\n",
       "      <td>Tripura</td>\n",
       "    </tr>\n",
       "    <tr>\n",
       "      <th>3</th>\n",
       "      <td>Agra</td>\n",
       "      <td>27.187935</td>\n",
       "      <td>78.003944</td>\n",
       "      <td>India</td>\n",
       "      <td>IN</td>\n",
       "      <td>Uttar Pradesh</td>\n",
       "    </tr>\n",
       "    <tr>\n",
       "      <th>4</th>\n",
       "      <td>Ahmadnagar</td>\n",
       "      <td>19.094571</td>\n",
       "      <td>74.738432</td>\n",
       "      <td>India</td>\n",
       "      <td>IN</td>\n",
       "      <td>Maharashtra</td>\n",
       "    </tr>\n",
       "    <tr>\n",
       "      <th>...</th>\n",
       "      <td>...</td>\n",
       "      <td>...</td>\n",
       "      <td>...</td>\n",
       "      <td>...</td>\n",
       "      <td>...</td>\n",
       "      <td>...</td>\n",
       "    </tr>\n",
       "    <tr>\n",
       "      <th>208</th>\n",
       "      <td>Vizianagaram</td>\n",
       "      <td>18.113290</td>\n",
       "      <td>83.397743</td>\n",
       "      <td>India</td>\n",
       "      <td>IN</td>\n",
       "      <td>Andhra Pradesh</td>\n",
       "    </tr>\n",
       "    <tr>\n",
       "      <th>209</th>\n",
       "      <td>Warangal</td>\n",
       "      <td>17.978423</td>\n",
       "      <td>79.600209</td>\n",
       "      <td>India</td>\n",
       "      <td>IN</td>\n",
       "      <td>Telangana</td>\n",
       "    </tr>\n",
       "    <tr>\n",
       "      <th>210</th>\n",
       "      <td>Jorapokhar</td>\n",
       "      <td>23.700000</td>\n",
       "      <td>86.412670</td>\n",
       "      <td>India</td>\n",
       "      <td>IN</td>\n",
       "      <td>Jharkhand</td>\n",
       "    </tr>\n",
       "    <tr>\n",
       "      <th>211</th>\n",
       "      <td>Brajrajnagar</td>\n",
       "      <td>21.820000</td>\n",
       "      <td>83.920000</td>\n",
       "      <td>India</td>\n",
       "      <td>IN</td>\n",
       "      <td>Odisha</td>\n",
       "    </tr>\n",
       "    <tr>\n",
       "      <th>212</th>\n",
       "      <td>Talcher</td>\n",
       "      <td>20.950000</td>\n",
       "      <td>85.230000</td>\n",
       "      <td>India</td>\n",
       "      <td>IN</td>\n",
       "      <td>Odisha</td>\n",
       "    </tr>\n",
       "  </tbody>\n",
       "</table>\n",
       "<p>213 rows × 6 columns</p>\n",
       "</div>"
      ],
      "text/plain": [
       "             City        Lat       Long country iso2           State\n",
       "0          Abohar  30.144533  74.195520   India   IN          Punjab\n",
       "1        Adilabad  19.400000  78.310000   India   IN       Telangana\n",
       "2        Agartala  23.836049  91.279386   India   IN         Tripura\n",
       "3            Agra  27.187935  78.003944   India   IN   Uttar Pradesh\n",
       "4      Ahmadnagar  19.094571  74.738432   India   IN     Maharashtra\n",
       "..            ...        ...        ...     ...  ...             ...\n",
       "208  Vizianagaram  18.113290  83.397743   India   IN  Andhra Pradesh\n",
       "209      Warangal  17.978423  79.600209   India   IN       Telangana\n",
       "210    Jorapokhar  23.700000  86.412670   India   IN       Jharkhand\n",
       "211  Brajrajnagar  21.820000  83.920000   India   IN          Odisha\n",
       "212       Talcher  20.950000  85.230000   India   IN          Odisha\n",
       "\n",
       "[213 rows x 6 columns]"
      ]
     },
     "execution_count": 8,
     "metadata": {},
     "output_type": "execute_result"
    }
   ],
   "source": [
    "df"
   ]
  },
  {
   "cell_type": "code",
   "execution_count": 7,
   "metadata": {},
   "outputs": [
    {
     "data": {
      "text/html": [
       "<div>\n",
       "<style scoped>\n",
       "    .dataframe tbody tr th:only-of-type {\n",
       "        vertical-align: middle;\n",
       "    }\n",
       "\n",
       "    .dataframe tbody tr th {\n",
       "        vertical-align: top;\n",
       "    }\n",
       "\n",
       "    .dataframe thead th {\n",
       "        text-align: right;\n",
       "    }\n",
       "</style>\n",
       "<table border=\"1\" class=\"dataframe\">\n",
       "  <thead>\n",
       "    <tr style=\"text-align: right;\">\n",
       "      <th></th>\n",
       "      <th>Lat</th>\n",
       "      <th>Long</th>\n",
       "    </tr>\n",
       "  </thead>\n",
       "  <tbody>\n",
       "    <tr>\n",
       "      <th>count</th>\n",
       "      <td>213.000000</td>\n",
       "      <td>213.000000</td>\n",
       "    </tr>\n",
       "    <tr>\n",
       "      <th>mean</th>\n",
       "      <td>21.734604</td>\n",
       "      <td>79.341943</td>\n",
       "    </tr>\n",
       "    <tr>\n",
       "      <th>std</th>\n",
       "      <td>6.394908</td>\n",
       "      <td>5.335423</td>\n",
       "    </tr>\n",
       "    <tr>\n",
       "      <th>min</th>\n",
       "      <td>8.177313</td>\n",
       "      <td>69.600868</td>\n",
       "    </tr>\n",
       "    <tr>\n",
       "      <th>25%</th>\n",
       "      <td>16.960361</td>\n",
       "      <td>75.853789</td>\n",
       "    </tr>\n",
       "    <tr>\n",
       "      <th>50%</th>\n",
       "      <td>22.576882</td>\n",
       "      <td>78.000000</td>\n",
       "    </tr>\n",
       "    <tr>\n",
       "      <th>75%</th>\n",
       "      <td>26.884682</td>\n",
       "      <td>81.428497</td>\n",
       "    </tr>\n",
       "    <tr>\n",
       "      <th>max</th>\n",
       "      <td>34.318174</td>\n",
       "      <td>94.908370</td>\n",
       "    </tr>\n",
       "  </tbody>\n",
       "</table>\n",
       "</div>"
      ],
      "text/plain": [
       "              Lat        Long\n",
       "count  213.000000  213.000000\n",
       "mean    21.734604   79.341943\n",
       "std      6.394908    5.335423\n",
       "min      8.177313   69.600868\n",
       "25%     16.960361   75.853789\n",
       "50%     22.576882   78.000000\n",
       "75%     26.884682   81.428497\n",
       "max     34.318174   94.908370"
      ]
     },
     "execution_count": 7,
     "metadata": {},
     "output_type": "execute_result"
    }
   ],
   "source": [
    "df.describe()"
   ]
  },
  {
   "cell_type": "raw",
   "metadata": {},
   "source": [
    "1) We have 213 cities in the data set.\n",
    "2) Latitude and Longitude will be our point of intrest."
   ]
  },
  {
   "cell_type": "code",
   "execution_count": 61,
   "metadata": {},
   "outputs": [],
   "source": [
    "#sorting by \n",
    "df = df.sort_values(by=['City'])"
   ]
  },
  {
   "cell_type": "code",
   "execution_count": 62,
   "metadata": {},
   "outputs": [],
   "source": [
    "df.reset_index(inplace=True)"
   ]
  },
  {
   "cell_type": "code",
   "execution_count": 63,
   "metadata": {},
   "outputs": [
    {
     "data": {
      "text/plain": [
       "(213, 7)"
      ]
     },
     "execution_count": 63,
     "metadata": {},
     "output_type": "execute_result"
    }
   ],
   "source": [
    "df.shape"
   ]
  },
  {
   "cell_type": "code",
   "execution_count": 65,
   "metadata": {},
   "outputs": [
    {
     "data": {
      "text/html": [
       "<div>\n",
       "<style scoped>\n",
       "    .dataframe tbody tr th:only-of-type {\n",
       "        vertical-align: middle;\n",
       "    }\n",
       "\n",
       "    .dataframe tbody tr th {\n",
       "        vertical-align: top;\n",
       "    }\n",
       "\n",
       "    .dataframe thead th {\n",
       "        text-align: right;\n",
       "    }\n",
       "</style>\n",
       "<table border=\"1\" class=\"dataframe\">\n",
       "  <thead>\n",
       "    <tr style=\"text-align: right;\">\n",
       "      <th></th>\n",
       "      <th>index</th>\n",
       "      <th>City</th>\n",
       "      <th>Lat</th>\n",
       "      <th>Long</th>\n",
       "      <th>country</th>\n",
       "      <th>iso2</th>\n",
       "      <th>State</th>\n",
       "    </tr>\n",
       "  </thead>\n",
       "  <tbody>\n",
       "    <tr>\n",
       "      <th>0</th>\n",
       "      <td>0</td>\n",
       "      <td>Abohar</td>\n",
       "      <td>30.144533</td>\n",
       "      <td>74.195520</td>\n",
       "      <td>India</td>\n",
       "      <td>IN</td>\n",
       "      <td>Punjab</td>\n",
       "    </tr>\n",
       "    <tr>\n",
       "      <th>1</th>\n",
       "      <td>1</td>\n",
       "      <td>Adilabad</td>\n",
       "      <td>19.400000</td>\n",
       "      <td>78.310000</td>\n",
       "      <td>India</td>\n",
       "      <td>IN</td>\n",
       "      <td>Telangana</td>\n",
       "    </tr>\n",
       "    <tr>\n",
       "      <th>2</th>\n",
       "      <td>2</td>\n",
       "      <td>Agartala</td>\n",
       "      <td>23.836049</td>\n",
       "      <td>91.279386</td>\n",
       "      <td>India</td>\n",
       "      <td>IN</td>\n",
       "      <td>Tripura</td>\n",
       "    </tr>\n",
       "    <tr>\n",
       "      <th>3</th>\n",
       "      <td>3</td>\n",
       "      <td>Agra</td>\n",
       "      <td>27.187935</td>\n",
       "      <td>78.003944</td>\n",
       "      <td>India</td>\n",
       "      <td>IN</td>\n",
       "      <td>Uttar Pradesh</td>\n",
       "    </tr>\n",
       "    <tr>\n",
       "      <th>4</th>\n",
       "      <td>4</td>\n",
       "      <td>Ahmadnagar</td>\n",
       "      <td>19.094571</td>\n",
       "      <td>74.738432</td>\n",
       "      <td>India</td>\n",
       "      <td>IN</td>\n",
       "      <td>Maharashtra</td>\n",
       "    </tr>\n",
       "    <tr>\n",
       "      <th>...</th>\n",
       "      <td>...</td>\n",
       "      <td>...</td>\n",
       "      <td>...</td>\n",
       "      <td>...</td>\n",
       "      <td>...</td>\n",
       "      <td>...</td>\n",
       "      <td>...</td>\n",
       "    </tr>\n",
       "    <tr>\n",
       "      <th>208</th>\n",
       "      <td>205</td>\n",
       "      <td>Varanasi</td>\n",
       "      <td>25.317740</td>\n",
       "      <td>83.005811</td>\n",
       "      <td>India</td>\n",
       "      <td>IN</td>\n",
       "      <td>Uttar Pradesh</td>\n",
       "    </tr>\n",
       "    <tr>\n",
       "      <th>209</th>\n",
       "      <td>206</td>\n",
       "      <td>Vellore</td>\n",
       "      <td>12.905769</td>\n",
       "      <td>79.137104</td>\n",
       "      <td>India</td>\n",
       "      <td>IN</td>\n",
       "      <td>Tamil Nadu</td>\n",
       "    </tr>\n",
       "    <tr>\n",
       "      <th>210</th>\n",
       "      <td>207</td>\n",
       "      <td>Vishakhapatnam</td>\n",
       "      <td>17.704052</td>\n",
       "      <td>83.297663</td>\n",
       "      <td>India</td>\n",
       "      <td>IN</td>\n",
       "      <td>Andhra Pradesh</td>\n",
       "    </tr>\n",
       "    <tr>\n",
       "      <th>211</th>\n",
       "      <td>208</td>\n",
       "      <td>Vizianagaram</td>\n",
       "      <td>18.113290</td>\n",
       "      <td>83.397743</td>\n",
       "      <td>India</td>\n",
       "      <td>IN</td>\n",
       "      <td>Andhra Pradesh</td>\n",
       "    </tr>\n",
       "    <tr>\n",
       "      <th>212</th>\n",
       "      <td>209</td>\n",
       "      <td>Warangal</td>\n",
       "      <td>17.978423</td>\n",
       "      <td>79.600209</td>\n",
       "      <td>India</td>\n",
       "      <td>IN</td>\n",
       "      <td>Telangana</td>\n",
       "    </tr>\n",
       "  </tbody>\n",
       "</table>\n",
       "<p>213 rows × 7 columns</p>\n",
       "</div>"
      ],
      "text/plain": [
       "     index            City        Lat       Long country iso2           State\n",
       "0        0          Abohar  30.144533  74.195520   India   IN          Punjab\n",
       "1        1        Adilabad  19.400000  78.310000   India   IN       Telangana\n",
       "2        2        Agartala  23.836049  91.279386   India   IN         Tripura\n",
       "3        3            Agra  27.187935  78.003944   India   IN   Uttar Pradesh\n",
       "4        4      Ahmadnagar  19.094571  74.738432   India   IN     Maharashtra\n",
       "..     ...             ...        ...        ...     ...  ...             ...\n",
       "208    205        Varanasi  25.317740  83.005811   India   IN   Uttar Pradesh\n",
       "209    206         Vellore  12.905769  79.137104   India   IN     Tamil Nadu \n",
       "210    207  Vishakhapatnam  17.704052  83.297663   India   IN  Andhra Pradesh\n",
       "211    208    Vizianagaram  18.113290  83.397743   India   IN  Andhra Pradesh\n",
       "212    209        Warangal  17.978423  79.600209   India   IN       Telangana\n",
       "\n",
       "[213 rows x 7 columns]"
      ]
     },
     "execution_count": 65,
     "metadata": {},
     "output_type": "execute_result"
    }
   ],
   "source": [
    "df"
   ]
  },
  {
   "cell_type": "code",
   "execution_count": 70,
   "metadata": {},
   "outputs": [],
   "source": [
    "lat = df['Lat'].tolist()\n",
    "long = df['Long'].tolist()\n",
    "cities = df['City'].tolist()"
   ]
  },
  {
   "cell_type": "markdown",
   "metadata": {},
   "source": [
    "Algorithm to check wether we can reach all the points from any starting point."
   ]
  },
  {
   "cell_type": "code",
   "execution_count": 21,
   "metadata": {},
   "outputs": [],
   "source": [
    "def connected(matrix):\n",
    "    def bfs(city):\n",
    "        for i,go in enumerate(matrix[city]):\n",
    "            if i not in visited and go==1:\n",
    "                visited.add(i)\n",
    "                bfs(i)\n",
    "    visited = set()\n",
    "    bfs(0)\n",
    "    print(visited)\n",
    "    if len(visited)==len(matrix):\n",
    "        return True\n",
    "    else:\n",
    "        return False     "
   ]
  },
  {
   "cell_type": "code",
   "execution_count": 14,
   "metadata": {},
   "outputs": [],
   "source": [
    "matrix = [[0]*213 for _ in range(213)]"
   ]
  },
  {
   "cell_type": "code",
   "execution_count": 15,
   "metadata": {},
   "outputs": [],
   "source": [
    "for i in range(213):\n",
    "    for j in range(213):\n",
    "        if i==j:\n",
    "            matrix[i][j] = 1"
   ]
  },
  {
   "cell_type": "markdown",
   "metadata": {},
   "source": [
    "Iterativiely update matrix until we get fully connected graph."
   ]
  },
  {
   "cell_type": "code",
   "execution_count": 18,
   "metadata": {},
   "outputs": [],
   "source": [
    "while connected(matrix)==False:\n",
    "    i = random.randint(0,212)\n",
    "    j = random.randint(0,212)\n",
    "    if matrix[i][j] == 0:\n",
    "        matrix[i][j] = 1"
   ]
  },
  {
   "cell_type": "code",
   "execution_count": 26,
   "metadata": {},
   "outputs": [
    {
     "name": "stdout",
     "output_type": "stream",
     "text": [
      "We have total connections of:  1165\n"
     ]
    }
   ],
   "source": [
    "c = 0\n",
    "for i in range(213):\n",
    "    for j in range(213):\n",
    "        if matrix[i][j] == 1:\n",
    "            c+=1\n",
    "print('We have total connections of: ',c - 213)"
   ]
  },
  {
   "cell_type": "markdown",
   "metadata": {},
   "source": [
    "# Create distance matrix using OSMR API"
   ]
  },
  {
   "cell_type": "code",
   "execution_count": 48,
   "metadata": {},
   "outputs": [],
   "source": [
    "distances = [[0]*213 for _ in range(213)]"
   ]
  },
  {
   "cell_type": "code",
   "execution_count": 68,
   "metadata": {},
   "outputs": [
    {
     "name": "stdout",
     "output_type": "stream",
     "text": [
      "0\n",
      "10\n",
      "20\n",
      "30\n",
      "40\n",
      "50\n",
      "60\n",
      "70\n",
      "80\n",
      "90\n",
      "100\n",
      "110\n",
      "120\n",
      "130\n",
      "140\n",
      "150\n",
      "160\n",
      "170\n",
      "180\n",
      "190\n",
      "200\n",
      "210\n"
     ]
    }
   ],
   "source": [
    "import requests\n",
    "import json\n",
    "# call the OSMR API\n",
    "for i in range(213):\n",
    "    for j in range(213):\n",
    "        if matrix[i][j] == 1:\n",
    "            try:\n",
    "                r = requests.get(f\"http://router.project-osrm.org/route/v1/car/{long[i]},{lat[i]};{long[j]},{lat[j]}?overview=false\"\"\")\n",
    "                # then you load the response using the json libray\n",
    "                # by default you get only one alternative so you access 0-th element of the `routes`\n",
    "                routes = json.loads(r.content)\n",
    "                route_1 = routes.get(\"routes\")[0]\n",
    "                distances[i][j] = route_1['distance']/1000\n",
    "            except:\n",
    "                distances[i][j] = 5000\n",
    "    if i%10 ==0:\n",
    "        print(i)"
   ]
  },
  {
   "cell_type": "code",
   "execution_count": 73,
   "metadata": {},
   "outputs": [],
   "source": [
    "# Prepare ajacency list\n",
    "adjacency_list = {}\n",
    "for i,city in enumerate(cities):\n",
    "    adjacency_list[city] = []\n",
    "    for j in range(len(cities)):\n",
    "        if matrix[i][j] == 1:\n",
    "            adjacency_list[city].append((cities[j],distances[i][j]))"
   ]
  },
  {
   "cell_type": "markdown",
   "metadata": {},
   "source": [
    "# Make a heuristic matrix. "
   ]
  },
  {
   "cell_type": "markdown",
   "metadata": {},
   "source": [
    "We consider heuristic as direct arieal distance between any two cities."
   ]
  },
  {
   "cell_type": "code",
   "execution_count": 33,
   "metadata": {},
   "outputs": [],
   "source": [
    "# Python 3 program to calculate Distance Between Two Points on Earth\n",
    "from math import radians, cos, sin, asin, sqrt\n",
    "def distance(lat1, lat2, lon1, lon2):\n",
    "     \n",
    "    # The math module contains a function named\n",
    "    # radians which converts from degrees to radians.\n",
    "    lon1 = radians(lon1)\n",
    "    lon2 = radians(lon2)\n",
    "    lat1 = radians(lat1)\n",
    "    lat2 = radians(lat2)\n",
    "      \n",
    "    # Haversine formula\n",
    "    dlon = lon2 - lon1\n",
    "    dlat = lat2 - lat1\n",
    "    a = sin(dlat / 2)**2 + cos(lat1) * cos(lat2) * sin(dlon / 2)**2\n",
    " \n",
    "    c = 2 * asin(sqrt(a))\n",
    "    \n",
    "    # Radius of earth in kilometers. Use 3956 for miles\n",
    "    r = 6371\n",
    "      \n",
    "    # calculate the result\n",
    "    return(c * r)"
   ]
  },
  {
   "cell_type": "raw",
   "metadata": {},
   "source": [
    "distance(lat[i], lat[j], long[i], long[j])"
   ]
  },
  {
   "cell_type": "markdown",
   "metadata": {},
   "source": [
    "# A* Algorithm to find distance between start and goal cities"
   ]
  },
  {
   "cell_type": "code",
   "execution_count": 86,
   "metadata": {},
   "outputs": [],
   "source": [
    "from collections import deque\n",
    " \n",
    "class Graph:\n",
    "    def __init__(self, adjac_lis, lat, long, cities):\n",
    "        self.adjac_lis = adjac_lis\n",
    "        self.lat = lat\n",
    "        self.long = long\n",
    "        self.cities = cities\n",
    " \n",
    "    def get_neighbors(self, v):\n",
    "        return self.adjac_lis[v]\n",
    " \n",
    "    # This is heuristic function which is having equal values for all nodes\n",
    "    def h(self, city,stop):\n",
    "        i = self.cities.index(city)\n",
    "        j = self.cities.index(stop)\n",
    "        d=distance(self.lat[i], self.lat[j], self.long[i], self.long[j])\n",
    "        return d\n",
    " \n",
    "    def a_star_algorithm(self, start, stop):\n",
    "        # In this open_lst is a list of nodes which have been visited, but who's \n",
    "        # neighbours haven't all been always inspected, It starts off with the start \n",
    "  #node\n",
    "        # And closed_lst is a list of nodes which have been visited\n",
    "        # and who's neighbors have been always inspected\n",
    "        open_lst = set([start])\n",
    "        closed_lst = set([])\n",
    " \n",
    "        # poo has present distances from start to all other nodes\n",
    "        # the default value is +infinity\n",
    "        poo = {}\n",
    "        poo[start] = 0\n",
    " \n",
    "        # par contains an adjac mapping of all nodes\n",
    "        par = {}\n",
    "        par[start] = start\n",
    " \n",
    "        while len(open_lst) > 0:\n",
    "            n = None\n",
    " \n",
    "            # it will find a node with the lowest value of f() -\n",
    "            for v in open_lst:\n",
    "                if n == None or poo[v] + self.h(v,stop) < poo[n] + self.h(n,stop):\n",
    "                    n = v;\n",
    " \n",
    "            if n == None:\n",
    "                print('Path does not exist!')\n",
    "                return None\n",
    " \n",
    "            # if the current node is the stop\n",
    "            # then we start again from start\n",
    "            if n == stop:\n",
    "                reconst_path = []\n",
    " \n",
    "                while par[n] != n:\n",
    "                    reconst_path.append(n)\n",
    "                    n = par[n]\n",
    " \n",
    "                reconst_path.append(start)\n",
    " \n",
    "                reconst_path.reverse()\n",
    " \n",
    "                print('Path found: {}'.format(reconst_path))\n",
    "                return reconst_path, poo[stop]\n",
    " \n",
    "            # for all the neighbors of the current node do\n",
    "            for (m, weight) in self.get_neighbors(n):\n",
    "              # if the current node is not presentin both open_lst and closed_lst\n",
    "                # add it to open_lst and note n as it's par\n",
    "                if m not in open_lst and m not in closed_lst:\n",
    "                    open_lst.add(m)\n",
    "                    par[m] = n\n",
    "                    poo[m] = poo[n] + weight\n",
    " \n",
    "                # otherwise, check if it's quicker to first visit n, then m\n",
    "                # and if it is, update par data and poo data\n",
    "                # and if the node was in the closed_lst, move it to open_lst\n",
    "                else:\n",
    "                    if poo[m] > poo[n] + weight:\n",
    "                        poo[m] = poo[n] + weight\n",
    "                        par[m] = n\n",
    " \n",
    "                        if m in closed_lst:\n",
    "                            closed_lst.remove(m)\n",
    "                            open_lst.add(m)\n",
    " \n",
    "            # remove n from the open_lst, and add it to closed_lst\n",
    "            # because all of his neighbors were inspected\n",
    "            open_lst.remove(n)\n",
    "            closed_lst.add(n)\n",
    " \n",
    "        print('Path does not exist!')\n",
    "        return None"
   ]
  },
  {
   "cell_type": "code",
   "execution_count": 87,
   "metadata": {},
   "outputs": [
    {
     "name": "stdout",
     "output_type": "stream",
     "text": [
      "Path found: ['Abohar', 'Mangalore', 'Warangal']\n"
     ]
    }
   ],
   "source": [
    "graph1 = Graph(adjacency_list,lat,long,cities)\n",
    "path = graph1.a_star_algorithm('Abohar', 'Warangal')"
   ]
  },
  {
   "cell_type": "code",
   "execution_count": 88,
   "metadata": {},
   "outputs": [
    {
     "data": {
      "text/plain": [
       "(['Abohar', 'Mangalore', 'Warangal'], 3364.8152)"
      ]
     },
     "execution_count": 88,
     "metadata": {},
     "output_type": "execute_result"
    }
   ],
   "source": [
    "path"
   ]
  },
  {
   "cell_type": "code",
   "execution_count": null,
   "metadata": {},
   "outputs": [],
   "source": []
  }
 ],
 "metadata": {
  "kernelspec": {
   "display_name": "Python 3",
   "language": "python",
   "name": "python3"
  },
  "language_info": {
   "codemirror_mode": {
    "name": "ipython",
    "version": 3
   },
   "file_extension": ".py",
   "mimetype": "text/x-python",
   "name": "python",
   "nbconvert_exporter": "python",
   "pygments_lexer": "ipython3",
   "version": "3.8.5"
  }
 },
 "nbformat": 4,
 "nbformat_minor": 4
}
