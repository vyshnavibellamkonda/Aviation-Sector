{
 "cells": [
  {
   "cell_type": "code",
   "execution_count": 1,
   "metadata": {},
   "outputs": [
    {
     "name": "stdout",
     "output_type": "stream",
     "text": [
      "C:\\Users\\venka\\OneDrive\\Desktop\\Project AI\n"
     ]
    }
   ],
   "source": [
    "cd C:\\Users\\venka\\OneDrive\\Desktop\\Project AI"
   ]
  },
  {
   "cell_type": "markdown",
   "metadata": {},
   "source": [
    "# Import the Libraries"
   ]
  },
  {
   "cell_type": "code",
   "execution_count": 2,
   "metadata": {},
   "outputs": [],
   "source": [
    "import pandas as pd\n",
    "import numpy as np\n",
    "import random"
   ]
  },
  {
   "cell_type": "markdown",
   "metadata": {},
   "source": [
    "Import the data"
   ]
  },
  {
   "cell_type": "code",
   "execution_count": 3,
   "metadata": {},
   "outputs": [],
   "source": [
    "df = pd.read_csv('Indian Cities Database.csv')"
   ]
  },
  {
   "cell_type": "code",
   "execution_count": 4,
   "metadata": {
    "scrolled": true
   },
   "outputs": [
    {
     "data": {
      "text/html": [
       "<div>\n",
       "<style scoped>\n",
       "    .dataframe tbody tr th:only-of-type {\n",
       "        vertical-align: middle;\n",
       "    }\n",
       "\n",
       "    .dataframe tbody tr th {\n",
       "        vertical-align: top;\n",
       "    }\n",
       "\n",
       "    .dataframe thead th {\n",
       "        text-align: right;\n",
       "    }\n",
       "</style>\n",
       "<table border=\"1\" class=\"dataframe\">\n",
       "  <thead>\n",
       "    <tr style=\"text-align: right;\">\n",
       "      <th></th>\n",
       "      <th>City</th>\n",
       "      <th>Lat</th>\n",
       "      <th>Long</th>\n",
       "      <th>country</th>\n",
       "      <th>iso2</th>\n",
       "      <th>State</th>\n",
       "    </tr>\n",
       "  </thead>\n",
       "  <tbody>\n",
       "    <tr>\n",
       "      <th>0</th>\n",
       "      <td>Abohar</td>\n",
       "      <td>30.144533</td>\n",
       "      <td>74.195520</td>\n",
       "      <td>India</td>\n",
       "      <td>IN</td>\n",
       "      <td>Punjab</td>\n",
       "    </tr>\n",
       "    <tr>\n",
       "      <th>1</th>\n",
       "      <td>Adilabad</td>\n",
       "      <td>19.400000</td>\n",
       "      <td>78.310000</td>\n",
       "      <td>India</td>\n",
       "      <td>IN</td>\n",
       "      <td>Telangana</td>\n",
       "    </tr>\n",
       "    <tr>\n",
       "      <th>2</th>\n",
       "      <td>Agartala</td>\n",
       "      <td>23.836049</td>\n",
       "      <td>91.279386</td>\n",
       "      <td>India</td>\n",
       "      <td>IN</td>\n",
       "      <td>Tripura</td>\n",
       "    </tr>\n",
       "    <tr>\n",
       "      <th>3</th>\n",
       "      <td>Agra</td>\n",
       "      <td>27.187935</td>\n",
       "      <td>78.003944</td>\n",
       "      <td>India</td>\n",
       "      <td>IN</td>\n",
       "      <td>Uttar Pradesh</td>\n",
       "    </tr>\n",
       "    <tr>\n",
       "      <th>4</th>\n",
       "      <td>Ahmadnagar</td>\n",
       "      <td>19.094571</td>\n",
       "      <td>74.738432</td>\n",
       "      <td>India</td>\n",
       "      <td>IN</td>\n",
       "      <td>Maharashtra</td>\n",
       "    </tr>\n",
       "    <tr>\n",
       "      <th>...</th>\n",
       "      <td>...</td>\n",
       "      <td>...</td>\n",
       "      <td>...</td>\n",
       "      <td>...</td>\n",
       "      <td>...</td>\n",
       "      <td>...</td>\n",
       "    </tr>\n",
       "    <tr>\n",
       "      <th>208</th>\n",
       "      <td>Vizianagaram</td>\n",
       "      <td>18.113290</td>\n",
       "      <td>83.397743</td>\n",
       "      <td>India</td>\n",
       "      <td>IN</td>\n",
       "      <td>Andhra Pradesh</td>\n",
       "    </tr>\n",
       "    <tr>\n",
       "      <th>209</th>\n",
       "      <td>Warangal</td>\n",
       "      <td>17.978423</td>\n",
       "      <td>79.600209</td>\n",
       "      <td>India</td>\n",
       "      <td>IN</td>\n",
       "      <td>Telangana</td>\n",
       "    </tr>\n",
       "    <tr>\n",
       "      <th>210</th>\n",
       "      <td>Jorapokhar</td>\n",
       "      <td>23.700000</td>\n",
       "      <td>86.412670</td>\n",
       "      <td>India</td>\n",
       "      <td>IN</td>\n",
       "      <td>Jharkhand</td>\n",
       "    </tr>\n",
       "    <tr>\n",
       "      <th>211</th>\n",
       "      <td>Brajrajnagar</td>\n",
       "      <td>21.820000</td>\n",
       "      <td>83.920000</td>\n",
       "      <td>India</td>\n",
       "      <td>IN</td>\n",
       "      <td>Odisha</td>\n",
       "    </tr>\n",
       "    <tr>\n",
       "      <th>212</th>\n",
       "      <td>Talcher</td>\n",
       "      <td>20.950000</td>\n",
       "      <td>85.230000</td>\n",
       "      <td>India</td>\n",
       "      <td>IN</td>\n",
       "      <td>Odisha</td>\n",
       "    </tr>\n",
       "  </tbody>\n",
       "</table>\n",
       "<p>213 rows × 6 columns</p>\n",
       "</div>"
      ],
      "text/plain": [
       "             City        Lat       Long country iso2           State\n",
       "0          Abohar  30.144533  74.195520   India   IN          Punjab\n",
       "1        Adilabad  19.400000  78.310000   India   IN       Telangana\n",
       "2        Agartala  23.836049  91.279386   India   IN         Tripura\n",
       "3            Agra  27.187935  78.003944   India   IN   Uttar Pradesh\n",
       "4      Ahmadnagar  19.094571  74.738432   India   IN     Maharashtra\n",
       "..            ...        ...        ...     ...  ...             ...\n",
       "208  Vizianagaram  18.113290  83.397743   India   IN  Andhra Pradesh\n",
       "209      Warangal  17.978423  79.600209   India   IN       Telangana\n",
       "210    Jorapokhar  23.700000  86.412670   India   IN       Jharkhand\n",
       "211  Brajrajnagar  21.820000  83.920000   India   IN          Odisha\n",
       "212       Talcher  20.950000  85.230000   India   IN          Odisha\n",
       "\n",
       "[213 rows x 6 columns]"
      ]
     },
     "execution_count": 4,
     "metadata": {},
     "output_type": "execute_result"
    }
   ],
   "source": [
    "df"
   ]
  },
  {
   "cell_type": "code",
   "execution_count": 5,
   "metadata": {},
   "outputs": [
    {
     "data": {
      "text/plain": [
       "213"
      ]
     },
     "execution_count": 5,
     "metadata": {},
     "output_type": "execute_result"
    }
   ],
   "source": [
    "df['City'].nunique()"
   ]
  },
  {
   "cell_type": "markdown",
   "metadata": {},
   "source": [
    "Removing some errors in the dataset."
   ]
  },
  {
   "cell_type": "code",
   "execution_count": 6,
   "metadata": {},
   "outputs": [],
   "source": [
    "df['City'] = df['City'].replace(['Chandigarh '],'Chandigarh')"
   ]
  },
  {
   "cell_type": "code",
   "execution_count": 7,
   "metadata": {},
   "outputs": [],
   "source": [
    "df['City'] = df['City'].replace(['Shillong '],'Shillong')\n",
    "df['City'] = df['City'].replace(['Aizawl  '],'Aizawl')\n",
    "df['City'] = df['City'].replace(['Bhopal '],'Bhopal')\n",
    "df['City'] = df['City'].replace(['Kolkata '],'Kolkata')"
   ]
  },
  {
   "cell_type": "code",
   "execution_count": 8,
   "metadata": {},
   "outputs": [
    {
     "data": {
      "text/html": [
       "<div>\n",
       "<style scoped>\n",
       "    .dataframe tbody tr th:only-of-type {\n",
       "        vertical-align: middle;\n",
       "    }\n",
       "\n",
       "    .dataframe tbody tr th {\n",
       "        vertical-align: top;\n",
       "    }\n",
       "\n",
       "    .dataframe thead th {\n",
       "        text-align: right;\n",
       "    }\n",
       "</style>\n",
       "<table border=\"1\" class=\"dataframe\">\n",
       "  <thead>\n",
       "    <tr style=\"text-align: right;\">\n",
       "      <th></th>\n",
       "      <th>Lat</th>\n",
       "      <th>Long</th>\n",
       "    </tr>\n",
       "  </thead>\n",
       "  <tbody>\n",
       "    <tr>\n",
       "      <th>count</th>\n",
       "      <td>213.000000</td>\n",
       "      <td>213.000000</td>\n",
       "    </tr>\n",
       "    <tr>\n",
       "      <th>mean</th>\n",
       "      <td>21.734604</td>\n",
       "      <td>79.341943</td>\n",
       "    </tr>\n",
       "    <tr>\n",
       "      <th>std</th>\n",
       "      <td>6.394908</td>\n",
       "      <td>5.335423</td>\n",
       "    </tr>\n",
       "    <tr>\n",
       "      <th>min</th>\n",
       "      <td>8.177313</td>\n",
       "      <td>69.600868</td>\n",
       "    </tr>\n",
       "    <tr>\n",
       "      <th>25%</th>\n",
       "      <td>16.960361</td>\n",
       "      <td>75.853789</td>\n",
       "    </tr>\n",
       "    <tr>\n",
       "      <th>50%</th>\n",
       "      <td>22.576882</td>\n",
       "      <td>78.000000</td>\n",
       "    </tr>\n",
       "    <tr>\n",
       "      <th>75%</th>\n",
       "      <td>26.884682</td>\n",
       "      <td>81.428497</td>\n",
       "    </tr>\n",
       "    <tr>\n",
       "      <th>max</th>\n",
       "      <td>34.318174</td>\n",
       "      <td>94.908370</td>\n",
       "    </tr>\n",
       "  </tbody>\n",
       "</table>\n",
       "</div>"
      ],
      "text/plain": [
       "              Lat        Long\n",
       "count  213.000000  213.000000\n",
       "mean    21.734604   79.341943\n",
       "std      6.394908    5.335423\n",
       "min      8.177313   69.600868\n",
       "25%     16.960361   75.853789\n",
       "50%     22.576882   78.000000\n",
       "75%     26.884682   81.428497\n",
       "max     34.318174   94.908370"
      ]
     },
     "execution_count": 8,
     "metadata": {},
     "output_type": "execute_result"
    }
   ],
   "source": [
    "df.describe()"
   ]
  },
  {
   "cell_type": "raw",
   "metadata": {},
   "source": [
    "1) We have 213 cities in the data set.\n",
    "2) Latitude and Longitude will be our point of intrest."
   ]
  },
  {
   "cell_type": "code",
   "execution_count": 9,
   "metadata": {},
   "outputs": [],
   "source": [
    "#sorting by city name\n",
    "df = df.sort_values(by=['City'])"
   ]
  },
  {
   "cell_type": "code",
   "execution_count": 10,
   "metadata": {},
   "outputs": [],
   "source": [
    "df.reset_index(inplace=True)"
   ]
  },
  {
   "cell_type": "code",
   "execution_count": 11,
   "metadata": {},
   "outputs": [
    {
     "data": {
      "text/plain": [
       "(213, 7)"
      ]
     },
     "execution_count": 11,
     "metadata": {},
     "output_type": "execute_result"
    }
   ],
   "source": [
    "df.shape"
   ]
  },
  {
   "cell_type": "code",
   "execution_count": 12,
   "metadata": {},
   "outputs": [
    {
     "data": {
      "text/html": [
       "<div>\n",
       "<style scoped>\n",
       "    .dataframe tbody tr th:only-of-type {\n",
       "        vertical-align: middle;\n",
       "    }\n",
       "\n",
       "    .dataframe tbody tr th {\n",
       "        vertical-align: top;\n",
       "    }\n",
       "\n",
       "    .dataframe thead th {\n",
       "        text-align: right;\n",
       "    }\n",
       "</style>\n",
       "<table border=\"1\" class=\"dataframe\">\n",
       "  <thead>\n",
       "    <tr style=\"text-align: right;\">\n",
       "      <th></th>\n",
       "      <th>index</th>\n",
       "      <th>City</th>\n",
       "      <th>Lat</th>\n",
       "      <th>Long</th>\n",
       "      <th>country</th>\n",
       "      <th>iso2</th>\n",
       "      <th>State</th>\n",
       "    </tr>\n",
       "  </thead>\n",
       "  <tbody>\n",
       "    <tr>\n",
       "      <th>0</th>\n",
       "      <td>0</td>\n",
       "      <td>Abohar</td>\n",
       "      <td>30.144533</td>\n",
       "      <td>74.195520</td>\n",
       "      <td>India</td>\n",
       "      <td>IN</td>\n",
       "      <td>Punjab</td>\n",
       "    </tr>\n",
       "    <tr>\n",
       "      <th>1</th>\n",
       "      <td>1</td>\n",
       "      <td>Adilabad</td>\n",
       "      <td>19.400000</td>\n",
       "      <td>78.310000</td>\n",
       "      <td>India</td>\n",
       "      <td>IN</td>\n",
       "      <td>Telangana</td>\n",
       "    </tr>\n",
       "    <tr>\n",
       "      <th>2</th>\n",
       "      <td>2</td>\n",
       "      <td>Agartala</td>\n",
       "      <td>23.836049</td>\n",
       "      <td>91.279386</td>\n",
       "      <td>India</td>\n",
       "      <td>IN</td>\n",
       "      <td>Tripura</td>\n",
       "    </tr>\n",
       "    <tr>\n",
       "      <th>3</th>\n",
       "      <td>3</td>\n",
       "      <td>Agra</td>\n",
       "      <td>27.187935</td>\n",
       "      <td>78.003944</td>\n",
       "      <td>India</td>\n",
       "      <td>IN</td>\n",
       "      <td>Uttar Pradesh</td>\n",
       "    </tr>\n",
       "    <tr>\n",
       "      <th>4</th>\n",
       "      <td>4</td>\n",
       "      <td>Ahmadnagar</td>\n",
       "      <td>19.094571</td>\n",
       "      <td>74.738432</td>\n",
       "      <td>India</td>\n",
       "      <td>IN</td>\n",
       "      <td>Maharashtra</td>\n",
       "    </tr>\n",
       "    <tr>\n",
       "      <th>...</th>\n",
       "      <td>...</td>\n",
       "      <td>...</td>\n",
       "      <td>...</td>\n",
       "      <td>...</td>\n",
       "      <td>...</td>\n",
       "      <td>...</td>\n",
       "      <td>...</td>\n",
       "    </tr>\n",
       "    <tr>\n",
       "      <th>208</th>\n",
       "      <td>205</td>\n",
       "      <td>Varanasi</td>\n",
       "      <td>25.317740</td>\n",
       "      <td>83.005811</td>\n",
       "      <td>India</td>\n",
       "      <td>IN</td>\n",
       "      <td>Uttar Pradesh</td>\n",
       "    </tr>\n",
       "    <tr>\n",
       "      <th>209</th>\n",
       "      <td>206</td>\n",
       "      <td>Vellore</td>\n",
       "      <td>12.905769</td>\n",
       "      <td>79.137104</td>\n",
       "      <td>India</td>\n",
       "      <td>IN</td>\n",
       "      <td>Tamil Nadu</td>\n",
       "    </tr>\n",
       "    <tr>\n",
       "      <th>210</th>\n",
       "      <td>207</td>\n",
       "      <td>Vishakhapatnam</td>\n",
       "      <td>17.704052</td>\n",
       "      <td>83.297663</td>\n",
       "      <td>India</td>\n",
       "      <td>IN</td>\n",
       "      <td>Andhra Pradesh</td>\n",
       "    </tr>\n",
       "    <tr>\n",
       "      <th>211</th>\n",
       "      <td>208</td>\n",
       "      <td>Vizianagaram</td>\n",
       "      <td>18.113290</td>\n",
       "      <td>83.397743</td>\n",
       "      <td>India</td>\n",
       "      <td>IN</td>\n",
       "      <td>Andhra Pradesh</td>\n",
       "    </tr>\n",
       "    <tr>\n",
       "      <th>212</th>\n",
       "      <td>209</td>\n",
       "      <td>Warangal</td>\n",
       "      <td>17.978423</td>\n",
       "      <td>79.600209</td>\n",
       "      <td>India</td>\n",
       "      <td>IN</td>\n",
       "      <td>Telangana</td>\n",
       "    </tr>\n",
       "  </tbody>\n",
       "</table>\n",
       "<p>213 rows × 7 columns</p>\n",
       "</div>"
      ],
      "text/plain": [
       "     index            City        Lat       Long country iso2           State\n",
       "0        0          Abohar  30.144533  74.195520   India   IN          Punjab\n",
       "1        1        Adilabad  19.400000  78.310000   India   IN       Telangana\n",
       "2        2        Agartala  23.836049  91.279386   India   IN         Tripura\n",
       "3        3            Agra  27.187935  78.003944   India   IN   Uttar Pradesh\n",
       "4        4      Ahmadnagar  19.094571  74.738432   India   IN     Maharashtra\n",
       "..     ...             ...        ...        ...     ...  ...             ...\n",
       "208    205        Varanasi  25.317740  83.005811   India   IN   Uttar Pradesh\n",
       "209    206         Vellore  12.905769  79.137104   India   IN     Tamil Nadu \n",
       "210    207  Vishakhapatnam  17.704052  83.297663   India   IN  Andhra Pradesh\n",
       "211    208    Vizianagaram  18.113290  83.397743   India   IN  Andhra Pradesh\n",
       "212    209        Warangal  17.978423  79.600209   India   IN       Telangana\n",
       "\n",
       "[213 rows x 7 columns]"
      ]
     },
     "execution_count": 12,
     "metadata": {},
     "output_type": "execute_result"
    }
   ],
   "source": [
    "df"
   ]
  },
  {
   "cell_type": "code",
   "execution_count": 13,
   "metadata": {},
   "outputs": [],
   "source": [
    "#Getting the important data like lat, long and cities to list\n",
    "lat = df['Lat'].tolist()\n",
    "long = df['Long'].tolist()\n",
    "cities = df['City'].tolist()"
   ]
  },
  {
   "cell_type": "markdown",
   "metadata": {},
   "source": [
    "Algorithm to check wether we can reach all the points from any starting point."
   ]
  },
  {
   "cell_type": "code",
   "execution_count": 14,
   "metadata": {},
   "outputs": [],
   "source": [
    "def connected(matrix):\n",
    "    def bfs(city):\n",
    "        for i,go in enumerate(matrix[city]):\n",
    "            if i not in visited and go==1:\n",
    "                visited.add(i)\n",
    "                bfs(i)\n",
    "    visited = set()\n",
    "    bfs(0)\n",
    "    #print(visited)\n",
    "    if len(visited)==len(matrix):\n",
    "        return True\n",
    "    else:\n",
    "        return False     "
   ]
  },
  {
   "cell_type": "code",
   "execution_count": 15,
   "metadata": {},
   "outputs": [],
   "source": [
    "#Setting up the connectivity matrix\n",
    "matrix = [[0]*213 for _ in range(213)]"
   ]
  },
  {
   "cell_type": "code",
   "execution_count": 16,
   "metadata": {},
   "outputs": [],
   "source": [
    "#Cities are obviously connected to themselves\n",
    "for i in range(213):\n",
    "    for j in range(213):\n",
    "        if i==j:\n",
    "            matrix[i][j] = 1"
   ]
  },
  {
   "cell_type": "markdown",
   "metadata": {},
   "source": [
    "Iterativiely update matrix until we get fully connected graph that means we can reach all the points from any starting point."
   ]
  },
  {
   "cell_type": "code",
   "execution_count": 17,
   "metadata": {},
   "outputs": [],
   "source": [
    "while connected(matrix)==False:\n",
    "    i = random.randint(0,212)\n",
    "    j = random.randint(0,212)\n",
    "    if matrix[i][j] == 0:\n",
    "        matrix[i][j] = 1"
   ]
  },
  {
   "cell_type": "markdown",
   "metadata": {},
   "source": [
    "Counting the number of total connections"
   ]
  },
  {
   "cell_type": "code",
   "execution_count": 18,
   "metadata": {},
   "outputs": [
    {
     "name": "stdout",
     "output_type": "stream",
     "text": [
      "We have total connections of:  1420\n"
     ]
    }
   ],
   "source": [
    "c = 0\n",
    "for i in range(213):\n",
    "    for j in range(213):\n",
    "        if matrix[i][j] == 1:\n",
    "            c+=1\n",
    "print('We have total connections of: ',c - 213)"
   ]
  },
  {
   "cell_type": "markdown",
   "metadata": {},
   "source": [
    "# Create distance matrix using OSMR API"
   ]
  },
  {
   "cell_type": "code",
   "execution_count": 19,
   "metadata": {},
   "outputs": [],
   "source": [
    "distances = [[0]*213 for _ in range(213)]"
   ]
  },
  {
   "cell_type": "markdown",
   "metadata": {},
   "source": [
    "Real distance between the cities is gathered usin the code block."
   ]
  },
  {
   "cell_type": "code",
   "execution_count": 20,
   "metadata": {},
   "outputs": [
    {
     "name": "stdout",
     "output_type": "stream",
     "text": [
      "0\n",
      "10\n",
      "20\n",
      "30\n",
      "40\n",
      "50\n",
      "60\n",
      "70\n",
      "80\n",
      "90\n",
      "100\n",
      "110\n",
      "120\n",
      "130\n",
      "140\n",
      "150\n",
      "160\n",
      "170\n",
      "180\n",
      "190\n",
      "200\n",
      "210\n"
     ]
    }
   ],
   "source": [
    "import requests\n",
    "import json\n",
    "# call the OSMR API\n",
    "for i in range(213):\n",
    "    for j in range(213):\n",
    "        if matrix[i][j] == 1:\n",
    "            try:\n",
    "                r = requests.get(f\"http://router.project-osrm.org/route/v1/car/{long[i]},{lat[i]};{long[j]},{lat[j]}?overview=false\"\"\")\n",
    "                # then you load the response using the json libray\n",
    "                # by default you get only one alternative \n",
    "                # so you access 0-th element of the `routes`\n",
    "                routes = json.loads(r.content)\n",
    "                route_1 = routes.get(\"routes\")[0]\n",
    "                distances[i][j] = route_1['distance']/1000\n",
    "            except:\n",
    "                distances[i][j] = 5000\n",
    "    if i%10 == 0:\n",
    "        print(i)"
   ]
  },
  {
   "cell_type": "code",
   "execution_count": 21,
   "metadata": {},
   "outputs": [],
   "source": [
    "# Prepare ajacency list based on the connections eastablished earlier\n",
    "adjacency_list = {}\n",
    "for i,city in enumerate(cities):\n",
    "    adjacency_list[city] = []\n",
    "    for j in range(len(cities)):\n",
    "        if matrix[i][j] == 1:\n",
    "            adjacency_list[city].append((cities[j],distances[i][j]))"
   ]
  },
  {
   "cell_type": "markdown",
   "metadata": {},
   "source": [
    "# Make a heuristic matrix. "
   ]
  },
  {
   "cell_type": "markdown",
   "metadata": {},
   "source": [
    "We consider heuristic as direct arieal distance between any two cities."
   ]
  },
  {
   "cell_type": "code",
   "execution_count": 22,
   "metadata": {},
   "outputs": [],
   "source": [
    "# Python 3 program to calculate Distance Between Two Points on Earth\n",
    "from math import radians, cos, sin, asin, sqrt\n",
    "def distance(lat1, lat2, lon1, lon2):\n",
    "     \n",
    "    # The math module contains a function named\n",
    "    # radians which converts from degrees to radians.\n",
    "    lon1 = radians(lon1)\n",
    "    lon2 = radians(lon2)\n",
    "    lat1 = radians(lat1)\n",
    "    lat2 = radians(lat2)\n",
    "      \n",
    "    # Haversine formula\n",
    "    dlon = lon2 - lon1\n",
    "    dlat = lat2 - lat1\n",
    "    a = sin(dlat / 2)**2 + cos(lat1) * cos(lat2) * sin(dlon / 2)**2\n",
    " \n",
    "    c = 2 * asin(sqrt(a))\n",
    "    \n",
    "    # Radius of earth in kilometers. Use 3956 for miles\n",
    "    r = 6371\n",
    "      \n",
    "    # calculate the result\n",
    "    return(c * r)"
   ]
  },
  {
   "cell_type": "raw",
   "metadata": {},
   "source": [
    "distance(lat[i], lat[j], long[i], long[j])"
   ]
  },
  {
   "cell_type": "markdown",
   "metadata": {},
   "source": [
    "# A* Algorithm to find distance between start and goal cities"
   ]
  },
  {
   "cell_type": "code",
   "execution_count": 23,
   "metadata": {},
   "outputs": [],
   "source": [
    "from collections import deque\n",
    " \n",
    "class Graph:\n",
    "    def __init__(self, adjac_lis, lat, long, cities):\n",
    "        self.adjac_lis = adjac_lis\n",
    "        self.lat = lat\n",
    "        self.long = long\n",
    "        self.cities = cities\n",
    " \n",
    "    def get_neighbors(self, v):\n",
    "        return self.adjac_lis[v]\n",
    " \n",
    "    # This is heuristic function which is having equal values for all nodes\n",
    "    def h(self, city,stop):\n",
    "        i = self.cities.index(city)\n",
    "        j = self.cities.index(stop)\n",
    "        d=distance(self.lat[i], self.lat[j], self.long[i], self.long[j])\n",
    "        return d\n",
    " \n",
    "    def a_star_algorithm(self, start, stop):\n",
    "        # In this open_lst is a list of nodes which have been visited, but who's \n",
    "        # neighbours haven't all been always inspected, It starts off with the start \n",
    "  #node\n",
    "        # And closed_lst is a list of nodes which have been visited\n",
    "        # and who's neighbors have been always inspected\n",
    "        open_lst = set([start])\n",
    "        closed_lst = set([])\n",
    " \n",
    "        # poo has present distances from start to all other nodes\n",
    "        # the default value is +infinity\n",
    "        poo = {}\n",
    "        poo[start] = 0\n",
    " \n",
    "        # par contains an adjac mapping of all nodes\n",
    "        par = {}\n",
    "        par[start] = start\n",
    " \n",
    "        while len(open_lst) > 0:\n",
    "            n = None\n",
    " \n",
    "            # it will find a node with the lowest value of f() -\n",
    "            for v in open_lst:\n",
    "                if n == None or poo[v] + self.h(v,stop) < poo[n] + self.h(n,stop):\n",
    "                    n = v;\n",
    " \n",
    "            if n == None:\n",
    "                print('Path does not exist!')\n",
    "                return None\n",
    " \n",
    "            # if the current node is the stop\n",
    "            # then we start again from start\n",
    "            if n == stop:\n",
    "                reconst_path = []\n",
    " \n",
    "                while par[n] != n:\n",
    "                    reconst_path.append(n)\n",
    "                    n = par[n]\n",
    " \n",
    "                reconst_path.append(start)\n",
    " \n",
    "                reconst_path.reverse()\n",
    " \n",
    "                #print('Path found: {}'.format(reconst_path))\n",
    "                return reconst_path, poo[stop]\n",
    " \n",
    "            # for all the neighbors of the current node do\n",
    "            for (m, weight) in self.get_neighbors(n):\n",
    "              # if the current node is not presentin both open_lst and closed_lst\n",
    "                # add it to open_lst and note n as it's par\n",
    "                if m not in open_lst and m not in closed_lst:\n",
    "                    open_lst.add(m)\n",
    "                    par[m] = n\n",
    "                    poo[m] = poo[n] + weight\n",
    " \n",
    "                # otherwise, check if it's quicker to first visit n, then m\n",
    "                # and if it is, update par data and poo data\n",
    "                # and if the node was in the closed_lst, move it to open_lst\n",
    "                else:\n",
    "                    if poo[m] > poo[n] + weight:\n",
    "                        poo[m] = poo[n] + weight\n",
    "                        par[m] = n\n",
    " \n",
    "                        if m in closed_lst:\n",
    "                            closed_lst.remove(m)\n",
    "                            open_lst.add(m)\n",
    " \n",
    "            # remove n from the open_lst, and add it to closed_lst\n",
    "            # because all of his neighbors were inspected\n",
    "            open_lst.remove(n)\n",
    "            closed_lst.add(n)\n",
    " \n",
    "        #print('Path does not exist!')\n",
    "        return [5000]"
   ]
  },
  {
   "cell_type": "markdown",
   "metadata": {},
   "source": [
    "Testing the algoithm"
   ]
  },
  {
   "cell_type": "code",
   "execution_count": 24,
   "metadata": {},
   "outputs": [],
   "source": [
    "graph1 = Graph(adjacency_list,lat,long,cities)\n",
    "path = graph1.a_star_algorithm('Nagercoil','Shimoga')"
   ]
  },
  {
   "cell_type": "code",
   "execution_count": 25,
   "metadata": {},
   "outputs": [
    {
     "data": {
      "text/plain": [
       "(['Nagercoil', 'Jaipur', 'Adilabad', 'Shimoga'], 4559.0838)"
      ]
     },
     "execution_count": 25,
     "metadata": {},
     "output_type": "execute_result"
    }
   ],
   "source": [
    "# Example output\n",
    "path"
   ]
  },
  {
   "cell_type": "markdown",
   "metadata": {},
   "source": [
    "# Final Algorithm"
   ]
  },
  {
   "cell_type": "code",
   "execution_count": 26,
   "metadata": {},
   "outputs": [
    {
     "name": "stdout",
     "output_type": "stream",
     "text": [
      "C:\\Users\\venka\\OneDrive\\Desktop\\Sem 7\\AIFA Project\n"
     ]
    }
   ],
   "source": [
    "cd C:\\Users\\venka\\OneDrive\\Desktop\\Sem 7\\AIFA Project"
   ]
  },
  {
   "cell_type": "code",
   "execution_count": 27,
   "metadata": {},
   "outputs": [],
   "source": [
    "df_cost =  pd.read_csv('cityprice.csv')"
   ]
  },
  {
   "cell_type": "code",
   "execution_count": 28,
   "metadata": {},
   "outputs": [
    {
     "data": {
      "text/plain": [
       "213"
      ]
     },
     "execution_count": 28,
     "metadata": {},
     "output_type": "execute_result"
    }
   ],
   "source": [
    "df_cost['City'].nunique()"
   ]
  },
  {
   "cell_type": "markdown",
   "metadata": {},
   "source": [
    "Part Tree"
   ]
  },
  {
   "cell_type": "code",
   "execution_count": null,
   "metadata": {},
   "outputs": [],
   "source": []
  },
  {
   "cell_type": "code",
   "execution_count": 29,
   "metadata": {},
   "outputs": [],
   "source": [
    "#this part_tree and use dictinary represents the tree stuture of the dependencies for each part in the manufacturing process"
   ]
  },
  {
   "cell_type": "code",
   "execution_count": 30,
   "metadata": {},
   "outputs": [],
   "source": [
    "part_tree = {'Main assembly':['Fuselage assembly','Wing assembly','Engine'],'Fuselage assembly':['Fuselage Nose','Fuselage Mid','Fuselage rare'],'Fuselage Nose':['Fuselage raw'],'Fuselage Mid':['Fuselage raw'],'Fuselage rare':['Frame','Tail Assembly'],'Frame':['Fuselage raw'],'Tail Assembly':['Tail main','Tail CS','actuators'],'Tail main':['Tail raw'],'Tail CS':['Tail raw'],'actuators':['Tail raw'],'Tail raw':[],'Wing assembly':['Wing main','Wing CS'],'Wing main':['Front Raw'],'Wing CS':['Front Raw'],'Front Raw':[],'Engine':['Engine Raw'],'Engine Raw':[],'Fuselage raw':[]}"
   ]
  },
  {
   "cell_type": "code",
   "execution_count": 31,
   "metadata": {},
   "outputs": [],
   "source": [
    "use = {'Main assembly':['Fuselage assembly','Wing assembly','Engine'],'Fuselage assembly':['Fuselage Nose','Fuselage Mid','Fuselage rare'],'Fuselage Nose':['Fuselage raw'],'Fuselage Mid':['Fuselage raw'],'Fuselage rare':['Frame','Tail Assembly'],'Frame':['Fuselage raw'],'Tail Assembly':['Tail main','Tail CS','actuators'],'Tail main':['Tail raw'],'Tail CS':['Tail raw'],'actuators':['Tail raw'],'Tail raw':[],'Wing assembly':['Wing main','Wing CS'],'Wing main':['Front Raw'],'Wing CS':['Front Raw'],'Front Raw':[],'Engine':['Engine Raw'],'Engine Raw':[],'Fuselage raw':[]}"
   ]
  },
  {
   "cell_type": "markdown",
   "metadata": {},
   "source": [
    "The objective in designing the final algorithm is to identify the minimum final cost for the total assembly at each and every main assembly centre. In our problem we assumed that the cost of production arises only due to these three factors i.e. 1) Part cost, 2) Assembly service charges and 3) Transport expenses to shift the parts from one factory to the other. We have considered each and every node in the manufacturing tree where production or assembly happens. Adding every city to the particular node where a specific function in the node happens in that cities and this will form a new tree called cost tree. This cost tree is updated with the best cost for every city in that node to get that functionality ready as the algorithm progresses. Since aircraft can only be formed when every part in the tree is considered. This constraints our algorithm to perform a search for every node in the manufacturing tree. We made a dictionary to store costs in that city. We obtained the cost and part manufactured in that city from cityprice dataset which we made available in the GitHub repo. Firstly we added to cost to cities which don’t have to depend on other cities that means parts which are manufactured in that cities have no subparts. If the city is dependent on some other city then the cost for that city is initialized to inf and will be updated later. This process is represented in algorithm 1.\n"
   ]
  },
  {
   "cell_type": "code",
   "execution_count": 32,
   "metadata": {},
   "outputs": [],
   "source": [
    "cost_part_city = {}\n",
    "basic_part_city = {}\n",
    "best_dependencies = {}"
   ]
  },
  {
   "cell_type": "code",
   "execution_count": 33,
   "metadata": {},
   "outputs": [],
   "source": [
    "for key in part_tree:\n",
    "    d = {}\n",
    "    for city in df_cost[df_cost[\"Part\"] == key]['City'].tolist():\n",
    "        d[city] = float('inf')\n",
    "    for city in d:\n",
    "        basic_part_city[city] = df_cost[df_cost['City'] == city]['Price'].tolist()[0]\n",
    "    if part_tree[key]==[]:\n",
    "        for city in d:\n",
    "            d[city] = df_cost[df_cost['City'] == city]['Price'].tolist()[0]\n",
    "    cost_part_city[key] = d"
   ]
  },
  {
   "cell_type": "markdown",
   "metadata": {},
   "source": [
    "Cost for the cities is further updated with algorithm 2. If the dependencies are already manufactured for any node. Then each and every city in that node is considered and the best cost for that city has to be calculated. The best cost to complete the part manufacturing in that city will be obtained by choosing the best dependency (the dependent city where costs are low) for that part is considered. Costs will also be varying with the distance between the current city and the dependent city and also the basic cost will be added to the best cost for that city. This process goes on iteratively until all the parts are manufactured. This process is represented in algorithm 2."
   ]
  },
  {
   "cell_type": "code",
   "execution_count": 34,
   "metadata": {},
   "outputs": [
    {
     "name": "stdout",
     "output_type": "stream",
     "text": [
      "0\n",
      "4\n",
      "13\n",
      "15\n",
      "16\n",
      "17\n"
     ]
    }
   ],
   "source": [
    "done = set()\n",
    "while(len(done)<18):\n",
    "    cont = '1'\n",
    "    if cont=='1':\n",
    "        print(len(done))\n",
    "        for part in use:\n",
    "            #print(part)\n",
    "            if use[part]!=[] and len(set(use[part])-set(done))==0:\n",
    "                for city in cost_part_city[part]:\n",
    "                    cost = 0\n",
    "                    bdc = []\n",
    "                    for depend in use[part]:\n",
    "                        c = float('inf')\n",
    "                        bc='a'\n",
    "                        for citydep in cost_part_city[depend]:\n",
    "                            try:\n",
    "                                if cost_part_city[depend][citydep]+100*graph1.a_star_algorithm(city,citydep)[-1] + basic_part_city[city] < c:\n",
    "                                    bc = citydep\n",
    "                                    c = cost_part_city[depend][citydep]+100*graph1.a_star_algorithm(city,citydep)[-1]+ basic_part_city[city]\n",
    "                            except:\n",
    "                                if cost_part_city[depend][citydep]+100*graph1.a_star_algorithm(citydep,city)[-1] + basic_part_city[city]< c:\n",
    "                                    bc = citydep\n",
    "                                    c = cost_part_city[depend][citydep]+100*graph1.a_star_algorithm(citydep,city)[-1]+ basic_part_city[city]\n",
    "                        bdc.append(bc)\n",
    "                        cost+=c\n",
    "                    best_dependencies[city] = bdc.copy()\n",
    "                    cost_part_city[part][city] = cost\n",
    "                done.add(part)\n",
    "            if use[part]==[]:\n",
    "                done.add(part)\n",
    "    else:\n",
    "        break"
   ]
  },
  {
   "cell_type": "markdown",
   "metadata": {},
   "source": [
    "Final cost after manufacturing of aircraft at Main Assembly plants."
   ]
  },
  {
   "cell_type": "code",
   "execution_count": 35,
   "metadata": {},
   "outputs": [
    {
     "data": {
      "text/plain": [
       "{'Abohar': 7759536.55,\n",
       " 'Adilabad': 7964120.19,\n",
       " 'Agartala': 8169674.800000001,\n",
       " 'Agra': 7789402.9799999995,\n",
       " 'Ahmadnagar': 7911418.879999999,\n",
       " 'Ahmedabad': 7756548.540000001,\n",
       " 'Aizawl': 8071333.26,\n",
       " 'Ajmer': 7534482.32,\n",
       " 'Akola': 7726471.68,\n",
       " 'Alappuzha': 8090391.079999999}"
      ]
     },
     "execution_count": 35,
     "metadata": {},
     "output_type": "execute_result"
    }
   ],
   "source": [
    "cost_part_city['Main assembly']"
   ]
  },
  {
   "cell_type": "code",
   "execution_count": 36,
   "metadata": {},
   "outputs": [],
   "source": [
    "import matplotlib.pyplot as plt"
   ]
  },
  {
   "cell_type": "code",
   "execution_count": 37,
   "metadata": {},
   "outputs": [
    {
     "data": {
      "text/plain": [
       "Text(0.5, 1.0, 'Best cost for manufacturing the aircraft.')"
      ]
     },
     "execution_count": 37,
     "metadata": {},
     "output_type": "execute_result"
    },
    {
     "data": {
      "image/png": "[encoded data removed]",
      "text/plain": [
       "<Figure size 1080x360 with 1 Axes>"
      ]
     },
     "metadata": {
      "needs_background": "light"
     },
     "output_type": "display_data"
    }
   ],
   "source": [
    "plt.figure(figsize=(15,5))\n",
    "plt.bar(*zip(*cost_part_city['Main assembly'].items()))\n",
    "plt.xlabel('Main assembly plant.')\n",
    "plt.ylabel('Total best possible cost.')\n",
    "plt.title('Best cost for manufacturing the aircraft.')"
   ]
  },
  {
   "cell_type": "markdown",
   "metadata": {},
   "source": [
    "Final output"
   ]
  },
  {
   "cell_type": "code",
   "execution_count": 66,
   "metadata": {},
   "outputs": [
    {
     "name": "stdout",
     "output_type": "stream",
     "text": [
      "Finally we can say that best profits can be achieved by completing the manufacturing in the Ajmer city.\n"
     ]
    }
   ],
   "source": [
    "keys = list(cost_part_city['Main assembly'].keys())\n",
    "values = list(cost_part_city['Main assembly'].values())\n",
    "best_city = keys[values.index(min(values))]\n",
    "b_cost = cost_part_city['Main assembly'][best_city]\n",
    "print('Finally we can say that best profits can be achieved by completing the manufacturing in the',keys[values.index(min(values))],'city.')"
   ]
  },
  {
   "cell_type": "markdown",
   "metadata": {},
   "source": [
    "Obtaining total cities for best manufacturing criteria"
   ]
  },
  {
   "cell_type": "code",
   "execution_count": 56,
   "metadata": {},
   "outputs": [],
   "source": [
    "path = set()\n",
    "curr = best_city\n",
    "def dfs(city):\n",
    "    path.add(city)\n",
    "    if city in best_dependencies:\n",
    "        golist = best_dependencies[city]\n",
    "        for go in golist:\n",
    "            path.add(go)\n",
    "            dfs(go)\n",
    "dfs(curr)"
   ]
  },
  {
   "cell_type": "code",
   "execution_count": 57,
   "metadata": {},
   "outputs": [
    {
     "data": {
      "text/plain": [
       "{'Ajmer',\n",
       " 'Aligarh',\n",
       " 'Bharatpur',\n",
       " 'Bijapur',\n",
       " 'Bilaspur',\n",
       " 'Delhi',\n",
       " 'Ghaziabad',\n",
       " 'Hapur',\n",
       " 'Jaipur',\n",
       " 'Jodhpur',\n",
       " 'Kota',\n",
       " 'Meerut',\n",
       " 'Moradabad',\n",
       " 'Pali',\n",
       " 'Patna',\n",
       " 'Pilibhit',\n",
       " 'Purnea',\n",
       " 'Ramagundam',\n",
       " 'Rampura',\n",
       " 'Rohtak',\n",
       " 'Talcher',\n",
       " 'Tharati Etawah'}"
      ]
     },
     "execution_count": 57,
     "metadata": {},
     "output_type": "execute_result"
    }
   ],
   "source": [
    "path"
   ]
  },
  {
   "cell_type": "code",
   "execution_count": 58,
   "metadata": {},
   "outputs": [],
   "source": [
    "df2 = pd.DataFrame()\n",
    "df2['City'] = list(path)"
   ]
  },
  {
   "cell_type": "code",
   "execution_count": 60,
   "metadata": {},
   "outputs": [],
   "source": [
    "df_final = pd.merge(df_cost, df2, on=\"City\")"
   ]
  },
  {
   "cell_type": "markdown",
   "metadata": {},
   "source": [
    "Table which shows best cities which are considered along with the part price"
   ]
  },
  {
   "cell_type": "code",
   "execution_count": 63,
   "metadata": {},
   "outputs": [
    {
     "data": {
      "text/html": [
       "<div>\n",
       "<style scoped>\n",
       "    .dataframe tbody tr th:only-of-type {\n",
       "        vertical-align: middle;\n",
       "    }\n",
       "\n",
       "    .dataframe tbody tr th {\n",
       "        vertical-align: top;\n",
       "    }\n",
       "\n",
       "    .dataframe thead th {\n",
       "        text-align: right;\n",
       "    }\n",
       "</style>\n",
       "<table border=\"1\" class=\"dataframe\">\n",
       "  <thead>\n",
       "    <tr style=\"text-align: right;\">\n",
       "      <th></th>\n",
       "      <th>City</th>\n",
       "      <th>Part</th>\n",
       "      <th>Price</th>\n",
       "      <th>Quality</th>\n",
       "    </tr>\n",
       "  </thead>\n",
       "  <tbody>\n",
       "    <tr>\n",
       "      <th>0</th>\n",
       "      <td>Ajmer</td>\n",
       "      <td>Main assembly</td>\n",
       "      <td>56467.0</td>\n",
       "      <td>85.0</td>\n",
       "    </tr>\n",
       "    <tr>\n",
       "      <th>1</th>\n",
       "      <td>Aligarh</td>\n",
       "      <td>Fuselage assembly</td>\n",
       "      <td>32963.0</td>\n",
       "      <td>75.0</td>\n",
       "    </tr>\n",
       "    <tr>\n",
       "      <th>2</th>\n",
       "      <td>Bharatpur</td>\n",
       "      <td>Wing assembly</td>\n",
       "      <td>4964.0</td>\n",
       "      <td>99.0</td>\n",
       "    </tr>\n",
       "    <tr>\n",
       "      <th>3</th>\n",
       "      <td>Bijapur</td>\n",
       "      <td>Engine</td>\n",
       "      <td>754824.0</td>\n",
       "      <td>83.0</td>\n",
       "    </tr>\n",
       "    <tr>\n",
       "      <th>4</th>\n",
       "      <td>Bilaspur</td>\n",
       "      <td>Fuselage Nose</td>\n",
       "      <td>443495.0</td>\n",
       "      <td>85.0</td>\n",
       "    </tr>\n",
       "    <tr>\n",
       "      <th>5</th>\n",
       "      <td>Delhi</td>\n",
       "      <td>Fuselage Mid</td>\n",
       "      <td>786644.0</td>\n",
       "      <td>84.0</td>\n",
       "    </tr>\n",
       "    <tr>\n",
       "      <th>6</th>\n",
       "      <td>Ghaziabad</td>\n",
       "      <td>Fuselage rare</td>\n",
       "      <td>384723.0</td>\n",
       "      <td>72.0</td>\n",
       "    </tr>\n",
       "    <tr>\n",
       "      <th>7</th>\n",
       "      <td>Hapur</td>\n",
       "      <td>Frame</td>\n",
       "      <td>135875.0</td>\n",
       "      <td>99.0</td>\n",
       "    </tr>\n",
       "    <tr>\n",
       "      <th>8</th>\n",
       "      <td>Jaipur</td>\n",
       "      <td>Tail Assembly</td>\n",
       "      <td>5036.0</td>\n",
       "      <td>80.0</td>\n",
       "    </tr>\n",
       "    <tr>\n",
       "      <th>9</th>\n",
       "      <td>Jodhpur</td>\n",
       "      <td>Tail main</td>\n",
       "      <td>107380.0</td>\n",
       "      <td>90.0</td>\n",
       "    </tr>\n",
       "    <tr>\n",
       "      <th>10</th>\n",
       "      <td>Kota</td>\n",
       "      <td>Tail CS</td>\n",
       "      <td>79002.0</td>\n",
       "      <td>73.0</td>\n",
       "    </tr>\n",
       "    <tr>\n",
       "      <th>11</th>\n",
       "      <td>Meerut</td>\n",
       "      <td>actuators</td>\n",
       "      <td>83057.0</td>\n",
       "      <td>62.0</td>\n",
       "    </tr>\n",
       "    <tr>\n",
       "      <th>12</th>\n",
       "      <td>Moradabad</td>\n",
       "      <td>Wing main</td>\n",
       "      <td>207601.0</td>\n",
       "      <td>90.0</td>\n",
       "    </tr>\n",
       "    <tr>\n",
       "      <th>13</th>\n",
       "      <td>Pali</td>\n",
       "      <td>Wing CS</td>\n",
       "      <td>86458.0</td>\n",
       "      <td>89.0</td>\n",
       "    </tr>\n",
       "    <tr>\n",
       "      <th>14</th>\n",
       "      <td>Patna</td>\n",
       "      <td>Fuselage raw</td>\n",
       "      <td>258184.0</td>\n",
       "      <td>67.0</td>\n",
       "    </tr>\n",
       "    <tr>\n",
       "      <th>15</th>\n",
       "      <td>Pilibhit</td>\n",
       "      <td>Fuselage raw</td>\n",
       "      <td>297772.0</td>\n",
       "      <td>94.0</td>\n",
       "    </tr>\n",
       "    <tr>\n",
       "      <th>16</th>\n",
       "      <td>Purnea</td>\n",
       "      <td>Fuselage raw</td>\n",
       "      <td>269012.0</td>\n",
       "      <td>88.0</td>\n",
       "    </tr>\n",
       "    <tr>\n",
       "      <th>17</th>\n",
       "      <td>Ramagundam</td>\n",
       "      <td>Tail raw</td>\n",
       "      <td>139652.0</td>\n",
       "      <td>63.0</td>\n",
       "    </tr>\n",
       "    <tr>\n",
       "      <th>18</th>\n",
       "      <td>Rampura</td>\n",
       "      <td>Tail raw</td>\n",
       "      <td>126479.0</td>\n",
       "      <td>98.0</td>\n",
       "    </tr>\n",
       "    <tr>\n",
       "      <th>19</th>\n",
       "      <td>Rohtak</td>\n",
       "      <td>Tail raw</td>\n",
       "      <td>129293.0</td>\n",
       "      <td>96.0</td>\n",
       "    </tr>\n",
       "    <tr>\n",
       "      <th>20</th>\n",
       "      <td>Tharati Etawah</td>\n",
       "      <td>Front Raw</td>\n",
       "      <td>81361.0</td>\n",
       "      <td>68.0</td>\n",
       "    </tr>\n",
       "    <tr>\n",
       "      <th>21</th>\n",
       "      <td>Talcher</td>\n",
       "      <td>Engine Raw</td>\n",
       "      <td>323142.0</td>\n",
       "      <td>73.0</td>\n",
       "    </tr>\n",
       "  </tbody>\n",
       "</table>\n",
       "</div>"
      ],
      "text/plain": [
       "              City               Part     Price  Quality\n",
       "0            Ajmer      Main assembly   56467.0     85.0\n",
       "1          Aligarh  Fuselage assembly   32963.0     75.0\n",
       "2        Bharatpur      Wing assembly    4964.0     99.0\n",
       "3          Bijapur             Engine  754824.0     83.0\n",
       "4         Bilaspur      Fuselage Nose  443495.0     85.0\n",
       "5            Delhi       Fuselage Mid  786644.0     84.0\n",
       "6        Ghaziabad      Fuselage rare  384723.0     72.0\n",
       "7            Hapur              Frame  135875.0     99.0\n",
       "8           Jaipur      Tail Assembly    5036.0     80.0\n",
       "9          Jodhpur          Tail main  107380.0     90.0\n",
       "10            Kota            Tail CS   79002.0     73.0\n",
       "11          Meerut          actuators   83057.0     62.0\n",
       "12       Moradabad          Wing main  207601.0     90.0\n",
       "13            Pali            Wing CS   86458.0     89.0\n",
       "14           Patna       Fuselage raw  258184.0     67.0\n",
       "15        Pilibhit       Fuselage raw  297772.0     94.0\n",
       "16          Purnea       Fuselage raw  269012.0     88.0\n",
       "17      Ramagundam           Tail raw  139652.0     63.0\n",
       "18         Rampura           Tail raw  126479.0     98.0\n",
       "19          Rohtak           Tail raw  129293.0     96.0\n",
       "20  Tharati Etawah          Front Raw   81361.0     68.0\n",
       "21         Talcher         Engine Raw  323142.0     73.0"
      ]
     },
     "execution_count": 63,
     "metadata": {},
     "output_type": "execute_result"
    }
   ],
   "source": [
    "df_final"
   ]
  }
 ],
 "metadata": {
  "kernelspec": {
   "display_name": "Python 3",
   "language": "python",
   "name": "python3"
  },
  "language_info": {
   "codemirror_mode": {
    "name": "ipython",
    "version": 3
   },
   "file_extension": ".py",
   "mimetype": "text/x-python",
   "name": "python",
   "nbconvert_exporter": "python",
   "pygments_lexer": "ipython3",
   "version": "3.8.5"
  }
 },
 "nbformat": 4,
 "nbformat_minor": 4
}
